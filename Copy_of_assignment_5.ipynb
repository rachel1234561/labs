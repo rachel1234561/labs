{
  "cells": [
    {
      "cell_type": "markdown",
      "metadata": {
        "id": "view-in-github",
        "colab_type": "text"
      },
      "source": [
        "<a href=\"https://colab.research.google.com/github/rachel1234561/labs/blob/main/Copy_of_assignment_5.ipynb\" target=\"_parent\"><img src=\"https://colab.research.google.com/assets/colab-badge.svg\" alt=\"Open In Colab\"/></a>"
      ]
    },
    {
      "cell_type": "markdown",
      "id": "bdaeb5b9-a78d-4439-8372-341b3e8cc2ea",
      "metadata": {
        "id": "bdaeb5b9-a78d-4439-8372-341b3e8cc2ea"
      },
      "source": [
        "# Assignment #5: Probability and Bootstrapping\n",
        "## Foundations of Machine Learning\n",
        "## ` ! git clone https://www.github.com/DS3001/the_bootstrap`\n",
        "## Do two."
      ]
    },
    {
      "cell_type": "code",
      "source": [
        "! git clone https://www.github.com/DS3001/the_bootstrap"
      ],
      "metadata": {
        "colab": {
          "base_uri": "https://localhost:8080/"
        },
        "id": "_X_V-Oa0VWzU",
        "outputId": "9ee07163-02f2-4108-b952-c75a6545470b"
      },
      "id": "_X_V-Oa0VWzU",
      "execution_count": 1,
      "outputs": [
        {
          "output_type": "stream",
          "name": "stdout",
          "text": [
            "Cloning into 'the_bootstrap'...\n",
            "warning: redirecting to https://github.com/DS3001/the_bootstrap.git/\n",
            "remote: Enumerating objects: 29, done.\u001b[K\n",
            "remote: Counting objects: 100% (8/8), done.\u001b[K\n",
            "remote: Compressing objects: 100% (7/7), done.\u001b[K\n",
            "remote: Total 29 (delta 2), reused 3 (delta 1), pack-reused 21 (from 1)\u001b[K\n",
            "Receiving objects: 100% (29/29), 1.95 MiB | 15.45 MiB/s, done.\n",
            "Resolving deltas: 100% (3/3), done.\n"
          ]
        }
      ]
    },
    {
      "cell_type": "markdown",
      "source": [
        "## Q2."
      ],
      "metadata": {
        "id": "_BabIQXCVndY"
      },
      "id": "_BabIQXCVndY"
    },
    {
      "cell_type": "code",
      "source": [
        "import numpy as np\n",
        "import matplotlib.pyplot as plt\n",
        "import pandas as pd\n",
        "import seaborn as sns\n",
        "df = pd.read_csv('/content/the_bootstrap/data/mammogram.csv')"
      ],
      "metadata": {
        "id": "AyI2Dzj9VsiX"
      },
      "id": "AyI2Dzj9VsiX",
      "execution_count": 2,
      "outputs": []
    },
    {
      "cell_type": "markdown",
      "source": [
        "1. Cross tabulate treatment and breast_cancer_death. What is the difference in 25-year survival rates between the control and mammogram groups?"
      ],
      "metadata": {
        "id": "apN_-ZZ6Vq_e"
      },
      "id": "apN_-ZZ6Vq_e"
    },
    {
      "cell_type": "code",
      "source": [
        "print( pd.crosstab( df['treatment'], df['breast_cancer_death']) , '\\n')\n",
        "print( pd.crosstab( df['treatment'], df['breast_cancer_death'], margins=True, normalize=True) , '\\n')\n",
        "#the survival rate of those in the mammogram group is very very sligtly higer than those in the control group\n",
        "#but the survival rates are basically the same"
      ],
      "metadata": {
        "colab": {
          "base_uri": "https://localhost:8080/"
        },
        "id": "VPM0BzKdVnPU",
        "outputId": "36cd81cb-a6bb-45ea-fdf4-b0bd8e0cd011"
      },
      "id": "VPM0BzKdVnPU",
      "execution_count": 3,
      "outputs": [
        {
          "output_type": "stream",
          "name": "stdout",
          "text": [
            "breast_cancer_death     no  yes\n",
            "treatment                      \n",
            "control              44405  505\n",
            "mammogram            44425  500 \n",
            "\n",
            "breast_cancer_death        no       yes       All\n",
            "treatment                                        \n",
            "control              0.494295  0.005621  0.499917\n",
            "mammogram            0.494518  0.005566  0.500083\n",
            "All                  0.988813  0.011187  1.000000 \n",
            "\n"
          ]
        }
      ]
    },
    {
      "cell_type": "markdown",
      "source": [
        "2. Bootstrap the densities and distributions of survival rates for the two groups."
      ],
      "metadata": {
        "id": "qKfReDzLWykM"
      },
      "id": "qKfReDzLWykM"
    },
    {
      "cell_type": "code",
      "source": [
        "df['survive'] = 0\n",
        "df.loc[ df['breast_cancer_death'] == 'no', 'survive'] = 1\n",
        "\n",
        "df_treat = df.loc[ df['treatment'] == 'mammogram', :]\n",
        "df_control = df.loc[ df['treatment'] == 'control', :]\n",
        "\n",
        "S = 5000\n",
        "fx = []\n",
        "for t in range(S):\n",
        "    df_treat_t = df_treat.sample( df_treat.shape[0], axis=0, replace=True)\n",
        "    df_control_t = df_control.sample( df_control.shape[0], axis=0, replace=True)\n",
        "    #\n",
        "    treatment_effect_t = np.mean(df_treat_t['survive']) - np.mean(df_control_t['survive'])\n",
        "    fx.append(treatment_effect_t)\n",
        "\n",
        "sns.kdeplot(fx)\n",
        "plt.show()\n",
        "\n",
        "sns.ecdfplot(fx)\n",
        "plt.show()"
      ],
      "metadata": {
        "colab": {
          "base_uri": "https://localhost:8080/",
          "height": 848
        },
        "id": "_wztwHMfW0qM",
        "outputId": "75dd0fd0-3e7a-4a46-aa26-b5cb7497f860"
      },
      "id": "_wztwHMfW0qM",
      "execution_count": 5,
      "outputs": [
        {
          "output_type": "display_data",
          "data": {
            "text/plain": [
              "<Figure size 640x480 with 1 Axes>"
            ],
            "image/png": "[encoded data removed]"
          },
          "metadata": {}
        },
        {
          "output_type": "display_data",
          "data": {
            "text/plain": [
              "<Figure size 640x480 with 1 Axes>"
            ],
            "image/png": "[encoded data removed]"
          },
          "metadata": {}
        }
      ]
    },
    {
      "cell_type": "markdown",
      "source": [
        "3. Construct a 99% confidence interval for the difference in outcomes bewteen the two groups. Does it include zero?"
      ],
      "metadata": {
        "id": "-CClHLadW5ic"
      },
      "id": "-CClHLadW5ic"
    },
    {
      "cell_type": "code",
      "source": [
        "level = .99\n",
        "lower_bound = np.quantile(fx, .005 )\n",
        "upper_bound = np.quantile(fx, .995)\n",
        "\n",
        "print('99% confidence interval: (', lower_bound, ', ', upper_bound, ')' )\n",
        "#yes the confidence interval does include 0"
      ],
      "metadata": {
        "colab": {
          "base_uri": "https://localhost:8080/"
        },
        "id": "7aPnY92WW7qJ",
        "outputId": "39792daa-a6e2-4377-f2df-ab8e911443e5"
      },
      "id": "7aPnY92WW7qJ",
      "execution_count": 6,
      "outputs": [
        {
          "output_type": "stream",
          "name": "stdout",
          "text": [
            "99% confidence interval: ( -0.001666066690977967 ,  0.0019405386547533842 )\n"
          ]
        }
      ]
    },
    {
      "cell_type": "markdown",
      "source": [
        "4. We're not doctors, these were just some intriguing data, and the information about the patients is extremely sparse. Why might these data over/understate the conclusions you've reached? What other data would you like to have to better understand or criticize your results?"
      ],
      "metadata": {
        "id": "GtblfUK9XH2l"
      },
      "id": "GtblfUK9XH2l"
    },
    {
      "cell_type": "markdown",
      "source": [
        "The data might not entierly represent reality. For instance, those who are showing other signs of brest cancer may be more likley to get a mamogram which may skew the data. I would need other data on the factors which lead to the mamogram occuring to better understand the results from my analysis of the data."
      ],
      "metadata": {
        "id": "nJgne4OOXLIR"
      },
      "id": "nJgne4OOXLIR"
    },
    {
      "cell_type": "markdown",
      "source": [
        "## Q4"
      ],
      "metadata": {
        "id": "Qrq6YsqAXoSE"
      },
      "id": "Qrq6YsqAXoSE"
    },
    {
      "cell_type": "code",
      "source": [
        "import numpy as np\n",
        "import matplotlib.pyplot as plt\n",
        "import pandas as pd\n",
        "import seaborn as sns\n",
        "df = pd.read_csv('/content/the_bootstrap/data/heart_hw.csv')\n",
        "df.head()"
      ],
      "metadata": {
        "colab": {
          "base_uri": "https://localhost:8080/",
          "height": 206
        },
        "id": "BFw3SzIxYCNJ",
        "outputId": "4f4a9848-0a64-4652-c322-5c7f636ed74f"
      },
      "id": "BFw3SzIxYCNJ",
      "execution_count": 18,
      "outputs": [
        {
          "output_type": "execute_result",
          "data": {
            "text/plain": [
              "   Unnamed: 0  age transplant  y\n",
              "0           1   53    control  0\n",
              "1           2   43    control  0\n",
              "2           3   52    control  0\n",
              "3           4   52    control  0\n",
              "4           5   54    control  0"
            ],
            "text/html": [
              "\n",
              "  <div id=\"df-9f38153e-31cd-48c8-8c1e-8296087349f6\" class=\"colab-df-container\">\n",
              "    <div>\n",
              "<style scoped>\n",
              "    .dataframe tbody tr th:only-of-type {\n",
              "        vertical-align: middle;\n",
              "    }\n",
              "\n",
              "    .dataframe tbody tr th {\n",
              "        vertical-align: top;\n",
              "    }\n",
              "\n",
              "    .dataframe thead th {\n",
              "        text-align: right;\n",
              "    }\n",
              "</style>\n",
              "<table border=\"1\" class=\"dataframe\">\n",
              "  <thead>\n",
              "    <tr style=\"text-align: right;\">\n",
              "      <th></th>\n",
              "      <th>Unnamed: 0</th>\n",
              "      <th>age</th>\n",
              "      <th>transplant</th>\n",
              "      <th>y</th>\n",
              "    </tr>\n",
              "  </thead>\n",
              "  <tbody>\n",
              "    <tr>\n",
              "      <th>0</th>\n",
              "      <td>1</td>\n",
              "      <td>53</td>\n",
              "      <td>control</td>\n",
              "      <td>0</td>\n",
              "    </tr>\n",
              "    <tr>\n",
              "      <th>1</th>\n",
              "      <td>2</td>\n",
              "      <td>43</td>\n",
              "      <td>control</td>\n",
              "      <td>0</td>\n",
              "    </tr>\n",
              "    <tr>\n",
              "      <th>2</th>\n",
              "      <td>3</td>\n",
              "      <td>52</td>\n",
              "      <td>control</td>\n",
              "      <td>0</td>\n",
              "    </tr>\n",
              "    <tr>\n",
              "      <th>3</th>\n",
              "      <td>4</td>\n",
              "      <td>52</td>\n",
              "      <td>control</td>\n",
              "      <td>0</td>\n",
              "    </tr>\n",
              "    <tr>\n",
              "      <th>4</th>\n",
              "      <td>5</td>\n",
              "      <td>54</td>\n",
              "      <td>control</td>\n",
              "      <td>0</td>\n",
              "    </tr>\n",
              "  </tbody>\n",
              "</table>\n",
              "</div>\n",
              "    <div class=\"colab-df-buttons\">\n",
              "\n",
              "  <div class=\"colab-df-container\">\n",
              "    <button class=\"colab-df-convert\" onclick=\"convertToInteractive('df-9f38153e-31cd-48c8-8c1e-8296087349f6')\"\n",
              "            title=\"Convert this dataframe to an interactive table.\"\n",
              "            style=\"display:none;\">\n",
              "\n",
              "  <svg xmlns=\"http://www.w3.org/2000/svg\" height=\"24px\" viewBox=\"0 -960 960 960\">\n",
              "    <path d=\"M120-120v-720h720v720H120Zm60-500h600v-160H180v160Zm220 220h160v-160H400v160Zm0 220h160v-160H400v160ZM180-400h160v-160H180v160Zm440 0h160v-160H620v160ZM180-180h160v-160H180v160Zm440 0h160v-160H620v160Z\"/>\n",
              "  </svg>\n",
              "    </button>\n",
              "\n",
              "  <style>\n",
              "    .colab-df-container {\n",
              "      display:flex;\n",
              "      gap: 12px;\n",
              "    }\n",
              "\n",
              "    .colab-df-convert {\n",
              "      background-color: #E8F0FE;\n",
              "      border: none;\n",
              "      border-radius: 50%;\n",
              "      cursor: pointer;\n",
              "      display: none;\n",
              "      fill: #1967D2;\n",
              "      height: 32px;\n",
              "      padding: 0 0 0 0;\n",
              "      width: 32px;\n",
              "    }\n",
              "\n",
              "    .colab-df-convert:hover {\n",
              "      background-color: #E2EBFA;\n",
              "      box-shadow: 0px 1px 2px rgba(60, 64, 67, 0.3), 0px 1px 3px 1px rgba(60, 64, 67, 0.15);\n",
              "      fill: #174EA6;\n",
              "    }\n",
              "\n",
              "    .colab-df-buttons div {\n",
              "      margin-bottom: 4px;\n",
              "    }\n",
              "\n",
              "    [theme=dark] .colab-df-convert {\n",
              "      background-color: #3B4455;\n",
              "      fill: #D2E3FC;\n",
              "    }\n",
              "\n",
              "    [theme=dark] .colab-df-convert:hover {\n",
              "      background-color: #434B5C;\n",
              "      box-shadow: 0px 1px 3px 1px rgba(0, 0, 0, 0.15);\n",
              "      filter: drop-shadow(0px 1px 2px rgba(0, 0, 0, 0.3));\n",
              "      fill: #FFFFFF;\n",
              "    }\n",
              "  </style>\n",
              "\n",
              "    <script>\n",
              "      const buttonEl =\n",
              "        document.querySelector('#df-9f38153e-31cd-48c8-8c1e-8296087349f6 button.colab-df-convert');\n",
              "      buttonEl.style.display =\n",
              "        google.colab.kernel.accessAllowed ? 'block' : 'none';\n",
              "\n",
              "      async function convertToInteractive(key) {\n",
              "        const element = document.querySelector('#df-9f38153e-31cd-48c8-8c1e-8296087349f6');\n",
              "        const dataTable =\n",
              "          await google.colab.kernel.invokeFunction('convertToInteractive',\n",
              "                                                    [key], {});\n",
              "        if (!dataTable) return;\n",
              "\n",
              "        const docLinkHtml = 'Like what you see? Visit the ' +\n",
              "          '<a target=\"_blank\" href=https://colab.research.google.com/notebooks/data_table.ipynb>data table notebook</a>'\n",
              "          + ' to learn more about interactive tables.';\n",
              "        element.innerHTML = '';\n",
              "        dataTable['output_type'] = 'display_data';\n",
              "        await google.colab.output.renderOutput(dataTable, element);\n",
              "        const docLink = document.createElement('div');\n",
              "        docLink.innerHTML = docLinkHtml;\n",
              "        element.appendChild(docLink);\n",
              "      }\n",
              "    </script>\n",
              "  </div>\n",
              "\n",
              "\n",
              "<div id=\"df-806013f2-e66a-4594-9857-adb8bb0cad34\">\n",
              "  <button class=\"colab-df-quickchart\" onclick=\"quickchart('df-806013f2-e66a-4594-9857-adb8bb0cad34')\"\n",
              "            title=\"Suggest charts\"\n",
              "            style=\"display:none;\">\n",
              "\n",
              "<svg xmlns=\"http://www.w3.org/2000/svg\" height=\"24px\"viewBox=\"0 0 24 24\"\n",
              "     width=\"24px\">\n",
              "    <g>\n",
              "        <path d=\"M19 3H5c-1.1 0-2 .9-2 2v14c0 1.1.9 2 2 2h14c1.1 0 2-.9 2-2V5c0-1.1-.9-2-2-2zM9 17H7v-7h2v7zm4 0h-2V7h2v10zm4 0h-2v-4h2v4z\"/>\n",
              "    </g>\n",
              "</svg>\n",
              "  </button>\n",
              "\n",
              "<style>\n",
              "  .colab-df-quickchart {\n",
              "      --bg-color: #E8F0FE;\n",
              "      --fill-color: #1967D2;\n",
              "      --hover-bg-color: #E2EBFA;\n",
              "      --hover-fill-color: #174EA6;\n",
              "      --disabled-fill-color: #AAA;\n",
              "      --disabled-bg-color: #DDD;\n",
              "  }\n",
              "\n",
              "  [theme=dark] .colab-df-quickchart {\n",
              "      --bg-color: #3B4455;\n",
              "      --fill-color: #D2E3FC;\n",
              "      --hover-bg-color: #434B5C;\n",
              "      --hover-fill-color: #FFFFFF;\n",
              "      --disabled-bg-color: #3B4455;\n",
              "      --disabled-fill-color: #666;\n",
              "  }\n",
              "\n",
              "  .colab-df-quickchart {\n",
              "    background-color: var(--bg-color);\n",
              "    border: none;\n",
              "    border-radius: 50%;\n",
              "    cursor: pointer;\n",
              "    display: none;\n",
              "    fill: var(--fill-color);\n",
              "    height: 32px;\n",
              "    padding: 0;\n",
              "    width: 32px;\n",
              "  }\n",
              "\n",
              "  .colab-df-quickchart:hover {\n",
              "    background-color: var(--hover-bg-color);\n",
              "    box-shadow: 0 1px 2px rgba(60, 64, 67, 0.3), 0 1px 3px 1px rgba(60, 64, 67, 0.15);\n",
              "    fill: var(--button-hover-fill-color);\n",
              "  }\n",
              "\n",
              "  .colab-df-quickchart-complete:disabled,\n",
              "  .colab-df-quickchart-complete:disabled:hover {\n",
              "    background-color: var(--disabled-bg-color);\n",
              "    fill: var(--disabled-fill-color);\n",
              "    box-shadow: none;\n",
              "  }\n",
              "\n",
              "  .colab-df-spinner {\n",
              "    border: 2px solid var(--fill-color);\n",
              "    border-color: transparent;\n",
              "    border-bottom-color: var(--fill-color);\n",
              "    animation:\n",
              "      spin 1s steps(1) infinite;\n",
              "  }\n",
              "\n",
              "  @keyframes spin {\n",
              "    0% {\n",
              "      border-color: transparent;\n",
              "      border-bottom-color: var(--fill-color);\n",
              "      border-left-color: var(--fill-color);\n",
              "    }\n",
              "    20% {\n",
              "      border-color: transparent;\n",
              "      border-left-color: var(--fill-color);\n",
              "      border-top-color: var(--fill-color);\n",
              "    }\n",
              "    30% {\n",
              "      border-color: transparent;\n",
              "      border-left-color: var(--fill-color);\n",
              "      border-top-color: var(--fill-color);\n",
              "      border-right-color: var(--fill-color);\n",
              "    }\n",
              "    40% {\n",
              "      border-color: transparent;\n",
              "      border-right-color: var(--fill-color);\n",
              "      border-top-color: var(--fill-color);\n",
              "    }\n",
              "    60% {\n",
              "      border-color: transparent;\n",
              "      border-right-color: var(--fill-color);\n",
              "    }\n",
              "    80% {\n",
              "      border-color: transparent;\n",
              "      border-right-color: var(--fill-color);\n",
              "      border-bottom-color: var(--fill-color);\n",
              "    }\n",
              "    90% {\n",
              "      border-color: transparent;\n",
              "      border-bottom-color: var(--fill-color);\n",
              "    }\n",
              "  }\n",
              "</style>\n",
              "\n",
              "  <script>\n",
              "    async function quickchart(key) {\n",
              "      const quickchartButtonEl =\n",
              "        document.querySelector('#' + key + ' button');\n",
              "      quickchartButtonEl.disabled = true;  // To prevent multiple clicks.\n",
              "      quickchartButtonEl.classList.add('colab-df-spinner');\n",
              "      try {\n",
              "        const charts = await google.colab.kernel.invokeFunction(\n",
              "            'suggestCharts', [key], {});\n",
              "      } catch (error) {\n",
              "        console.error('Error during call to suggestCharts:', error);\n",
              "      }\n",
              "      quickchartButtonEl.classList.remove('colab-df-spinner');\n",
              "      quickchartButtonEl.classList.add('colab-df-quickchart-complete');\n",
              "    }\n",
              "    (() => {\n",
              "      let quickchartButtonEl =\n",
              "        document.querySelector('#df-806013f2-e66a-4594-9857-adb8bb0cad34 button');\n",
              "      quickchartButtonEl.style.display =\n",
              "        google.colab.kernel.accessAllowed ? 'block' : 'none';\n",
              "    })();\n",
              "  </script>\n",
              "</div>\n",
              "\n",
              "    </div>\n",
              "  </div>\n"
            ],
            "application/vnd.google.colaboratory.intrinsic+json": {
              "type": "dataframe",
              "variable_name": "df",
              "summary": "{\n  \"name\": \"df\",\n  \"rows\": 103,\n  \"fields\": [\n    {\n      \"column\": \"Unnamed: 0\",\n      \"properties\": {\n        \"dtype\": \"number\",\n        \"std\": 29,\n        \"min\": 1,\n        \"max\": 103,\n        \"num_unique_values\": 103,\n        \"samples\": [\n          31,\n          68,\n          63\n        ],\n        \"semantic_type\": \"\",\n        \"description\": \"\"\n      }\n    },\n    {\n      \"column\": \"age\",\n      \"properties\": {\n        \"dtype\": \"number\",\n        \"std\": 9,\n        \"min\": 8,\n        \"max\": 64,\n        \"num_unique_values\": 35,\n        \"samples\": [\n          23,\n          49,\n          28\n        ],\n        \"semantic_type\": \"\",\n        \"description\": \"\"\n      }\n    },\n    {\n      \"column\": \"transplant\",\n      \"properties\": {\n        \"dtype\": \"category\",\n        \"num_unique_values\": 2,\n        \"samples\": [\n          \"treatment\",\n          \"control\"\n        ],\n        \"semantic_type\": \"\",\n        \"description\": \"\"\n      }\n    },\n    {\n      \"column\": \"y\",\n      \"properties\": {\n        \"dtype\": \"number\",\n        \"std\": 0,\n        \"min\": 0,\n        \"max\": 1,\n        \"num_unique_values\": 2,\n        \"samples\": [\n          1,\n          0\n        ],\n        \"semantic_type\": \"\",\n        \"description\": \"\"\n      }\n    }\n  ]\n}"
            }
          },
          "metadata": {},
          "execution_count": 18
        }
      ]
    },
    {
      "cell_type": "markdown",
      "source": [
        "1. Compute (a) the proportion of people who survive in the control group who do not receive a transplant, and (b) the difference between the proportion of people who survive in the treatment group and the proportion of people who survive in the control group (the average treatment effect)."
      ],
      "metadata": {
        "id": "2qn1i40YYI62"
      },
      "id": "2qn1i40YYI62"
    },
    {
      "cell_type": "code",
      "source": [
        "df['treat'] = 0\n",
        "df['intercept'] = 1\n",
        "df.loc[ df['transplant']=='treatment','treat']=1\n",
        "\n",
        "print( pd.crosstab( df['transplant'], df['y']), '\\n')"
      ],
      "metadata": {
        "colab": {
          "base_uri": "https://localhost:8080/"
        },
        "id": "RL1UuZwmYQMy",
        "outputId": "4fb09314-aa5e-4d2a-fd77-1c665a4e7e84"
      },
      "id": "RL1UuZwmYQMy",
      "execution_count": 22,
      "outputs": [
        {
          "output_type": "stream",
          "name": "stdout",
          "text": [
            "y            0   1\n",
            "transplant        \n",
            "control     30   4\n",
            "treatment   45  24 \n",
            "\n"
          ]
        }
      ]
    },
    {
      "cell_type": "code",
      "source": [
        "print(4/34)\n",
        "print(24/(24+45)-4/(30+4))\n",
        "#control group survival rate is 0.11764705882352941\n",
        "#average treatment effect is 0.23017902813299232"
      ],
      "metadata": {
        "colab": {
          "base_uri": "https://localhost:8080/"
        },
        "id": "c5FE-gvOYbUf",
        "outputId": "5db13551-afeb-4c89-8320-11496af1953a"
      },
      "id": "c5FE-gvOYbUf",
      "execution_count": 23,
      "outputs": [
        {
          "output_type": "stream",
          "name": "stdout",
          "text": [
            "0.11764705882352941\n",
            "0.23017902813299232\n"
          ]
        }
      ]
    },
    {
      "cell_type": "markdown",
      "source": [
        "2. Regress y on transplant using a linear model. How does the constant/intercept of the regression and the coefficient on transplant compare to your answers from part 1? Explain carefully."
      ],
      "metadata": {
        "id": "pJFwrhjkYvV1"
      },
      "id": "pJFwrhjkYvV1"
    },
    {
      "cell_type": "code",
      "source": [
        "from sklearn.linear_model import LinearRegression\n",
        "y = df['y']\n",
        "X = df.loc[:,['intercept', 'treat']]\n",
        "\n",
        "reg = LinearRegression(fit_intercept=False).fit(X,y)\n",
        "\n",
        "print('Regression Coefficients: ', reg.coef_)\n",
        "#the constant of the regression is the same as the control group survival rate\n",
        "#the intercept of the regression is the same as the average treatment effect"
      ],
      "metadata": {
        "colab": {
          "base_uri": "https://localhost:8080/"
        },
        "id": "ubeNLQetYxqP",
        "outputId": "d0c50ed3-b10e-45ee-bbde-54e313f2b365"
      },
      "id": "ubeNLQetYxqP",
      "execution_count": 24,
      "outputs": [
        {
          "output_type": "stream",
          "name": "stdout",
          "text": [
            "Regression Coefficients:  [0.11764706 0.23017903]\n"
          ]
        }
      ]
    },
    {
      "cell_type": "markdown",
      "source": [
        "3. We'd like to include age in the regression, since it's reasonable to expect that older patients are less likely to survive an extensive surgery like a heart transplant. Regress y on transplant, age, and transplant  ×  age. You can do this using a linear regression. How do the intercept and the coefficient on transplanttreatment change?"
      ],
      "metadata": {
        "id": "SbB0xYDfaFKx"
      },
      "id": "SbB0xYDfaFKx"
    },
    {
      "cell_type": "code",
      "source": [
        "from sklearn.linear_model import LinearRegression\n",
        "\n",
        "y = df['y']\n",
        "X = df.loc[:,['intercept', 'treat', 'age'] ]\n",
        "\n",
        "reg = LinearRegression(fit_intercept=False).fit(X,y)\n",
        "\n",
        "print('Regression Coefficients: ', reg.coef_)\n",
        "#the coefficent for average treatnt effect as well as the proportion of the control group who survived increased"
      ],
      "metadata": {
        "colab": {
          "base_uri": "https://localhost:8080/"
        },
        "id": "78jgfnq6aHv8",
        "outputId": "96c4dfb2-bd63-45ee-bf55-fb56e901ed99"
      },
      "id": "78jgfnq6aHv8",
      "execution_count": 25,
      "outputs": [
        {
          "output_type": "stream",
          "name": "stdout",
          "text": [
            "Regression Coefficients:  [ 0.70195697  0.26470169 -0.01360722]\n"
          ]
        }
      ]
    },
    {
      "cell_type": "markdown",
      "source": [
        "4. Build a more flexible model that allows for non-linear age effects and interactions between age and treatment. Estimate the model, and plot the predicted survival probability by age, hued for people who receive a heart transplant and those who don't. Describe what you see."
      ],
      "metadata": {
        "id": "PhoyoNwPagMf"
      },
      "id": "PhoyoNwPagMf"
    },
    {
      "cell_type": "code",
      "source": [
        "from sklearn.linear_model import LinearRegression\n",
        "df['treatXage'] = df['treat']*df['age']\n",
        "df['age_sq'] = df['age']**2\n",
        "df['treatXage_sq'] = df['treat']*df['age_sq']\n",
        "df['age_cu'] = df['age']**3\n",
        "df['treatXage_cu'] = df['treat']*df['age_cu']\n",
        "\n",
        "y = df['y']\n",
        "X = df.loc[:,['intercept', 'treat', 'age',\n",
        "              'treatXage',\n",
        "              'age_sq', 'age_cu'] ]\n",
        "reg = LinearRegression(fit_intercept=False).fit(X,y)\n",
        "print('Regression Coefficients: ', reg.coef_)\n",
        "y_hat = reg.predict(X)\n",
        "sns.scatterplot(x=df['age'], y = y_hat, hue = df['treat'])\n",
        "#the probability for survival for both groups seems highest in peoples 20s, and overall group 2, or the treatment group has\n",
        "#a higher survival rate across ages"
      ],
      "metadata": {
        "colab": {
          "base_uri": "https://localhost:8080/",
          "height": 503
        },
        "id": "m2mL2rgBaknz",
        "outputId": "e12dfb36-d2e2-4c57-b127-0e51c57b584c"
      },
      "id": "m2mL2rgBaknz",
      "execution_count": 26,
      "outputs": [
        {
          "output_type": "stream",
          "name": "stdout",
          "text": [
            "Regression Coefficients:  [-8.54714047e-01  5.86191756e-01  1.02563021e-01 -7.70114914e-03\n",
            " -2.70227509e-03  2.01932637e-05]\n"
          ]
        },
        {
          "output_type": "execute_result",
          "data": {
            "text/plain": [
              "<Axes: xlabel='age'>"
            ]
          },
          "metadata": {},
          "execution_count": 26
        },
        {
          "output_type": "display_data",
          "data": {
            "text/plain": [
              "<Figure size 640x480 with 1 Axes>"
            ],
            "image/png": "[encoded data removed]"
          },
          "metadata": {}
        }
      ]
    },
    {
      "cell_type": "markdown",
      "source": [
        "5. Imagine someone suggests using these kinds of models to select who receives organ transplants; perhaps the CDC or NIH starts using a scoring algorithm to decide who is contacted about a potential organ transplant. What are your concerns about how it is built and how it is deployed?"
      ],
      "metadata": {
        "id": "vj9L-3D0bAny"
      },
      "id": "vj9L-3D0bAny"
    },
    {
      "cell_type": "markdown",
      "source": [
        "My concerns would be around fairness and bias, as the algorithm would likley discriminate based on age, and possibly other factors such as race and gender if they are included in the data set. In addition, it would be difficult to trace the decision back to a person so accountability for bias would be reduced."
      ],
      "metadata": {
        "id": "e1Au1N9WbD3P"
      },
      "id": "e1Au1N9WbD3P"
    }
  ],
  "metadata": {
    "kernelspec": {
      "display_name": "Python 3 (ipykernel)",
      "language": "python",
      "name": "python3"
    },
    "language_info": {
      "codemirror_mode": {
        "name": "ipython",
        "version": 3
      },
      "file_extension": ".py",
      "mimetype": "text/x-python",
      "name": "python",
      "nbconvert_exporter": "python",
      "pygments_lexer": "ipython3",
      "version": "3.10.4"
    },
    "colab": {
      "provenance": [],
      "include_colab_link": true
    }
  },
  "nbformat": 4,
  "nbformat_minor": 5
}