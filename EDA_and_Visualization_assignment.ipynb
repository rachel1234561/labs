{
  "cells": [
    {
      "cell_type": "markdown",
      "metadata": {
        "id": "view-in-github",
        "colab_type": "text"
      },
      "source": [
        "<a href=\"https://colab.research.google.com/github/rachel1234561/labs/blob/main/EDA_and_Visualization_assignment.ipynb\" target=\"_parent\"><img src=\"https://colab.research.google.com/assets/colab-badge.svg\" alt=\"Open In Colab\"/></a>"
      ]
    },
    {
      "cell_type": "markdown",
      "id": "13ad028b-72b7-43ed-aa78-96fd4e518040",
      "metadata": {
        "id": "13ad028b-72b7-43ed-aa78-96fd4e518040"
      },
      "source": [
        "# Assignment: Exploratory Data Analysis\n",
        "### `! git clone https://github.com/DS3001/visualization`\n",
        "### Do Q1 or Q2 or Q3, and Q4. You might want to refer to your work for the data wrangling assignment."
      ]
    },
    {
      "cell_type": "code",
      "source": [
        "! git clone https://github.com/DS3001/visualization"
      ],
      "metadata": {
        "colab": {
          "base_uri": "https://localhost:8080/"
        },
        "id": "sEZWxopJfmlO",
        "outputId": "2707afd0-804d-4262-c4b9-f8325ab71c00"
      },
      "id": "sEZWxopJfmlO",
      "execution_count": 1,
      "outputs": [
        {
          "output_type": "stream",
          "name": "stdout",
          "text": [
            "Cloning into 'visualization'...\n",
            "remote: Enumerating objects: 34, done.\u001b[K\n",
            "remote: Counting objects: 100% (11/11), done.\u001b[K\n",
            "remote: Compressing objects: 100% (10/10), done.\u001b[K\n",
            "remote: Total 34 (delta 4), reused 1 (delta 1), pack-reused 23 (from 1)\u001b[K\n",
            "Receiving objects: 100% (34/34), 7.18 MiB | 9.40 MiB/s, done.\n",
            "Resolving deltas: 100% (7/7), done.\n"
          ]
        }
      ]
    },
    {
      "cell_type": "markdown",
      "source": [
        "# Question 1:"
      ],
      "metadata": {
        "id": "9fiJphvf57Mg"
      },
      "id": "9fiJphvf57Mg"
    },
    {
      "cell_type": "markdown",
      "source": [
        "**Q1.** This question provides some practice doing exploratory data analysis and visualization.\n",
        "\n",
        "The \"relevant\" variables for this question are:\n",
        "  - `level` - Level of institution (4-year, 2-year)\n",
        "  - `aid_value` - The average amount of student aid going to undergraduate recipients\n",
        "  - `control` - Public, Private not-for-profit, Private for-profit\n",
        "  - `grad_100_value` - percentage of first-time, full-time, degree-seeking undergraduates who complete a degree or certificate program within 100 percent of expected time (bachelor's-seeking group at 4-year institutions)\n",
        "\n",
        "1. Load the `./data/college_completion.csv` data with Pandas.\n",
        "2. What are are the dimensions of the data? How many observations are there? What are the variables included? Use `.head()` to examine the first few rows of data.\n",
        "3. Cross tabulate `control` and `level`. Describe the patterns you see.\n",
        "4. For `grad_100_value`, create a histogram, kernel density plot, boxplot, and statistical description.\n",
        "5. For `grad_100_value`, create a grouped kernel density plot by `control` and by `level`. Describe what you see. Use `groupby` and `.describe` to make grouped calculations of statistical descriptions of `grad_100_value` by `level` and `control`. Which institutions appear to have the best graduation rates?\n",
        "6. Create a new variable, `df['levelXcontrol']=df['level']+', '+df['control']` that interacts level and control. Make a grouped kernel density plot. Which institutions appear to have the best graduation rates?\n",
        "7. Make a kernel density plot of `aid_value`. Now group your graph by `level` and `control`. What explains the shape of the graph? Use `groupby` and `.describe` to make grouped calculations of statistical descriptions of `aid_value` by `level` and `control`.\n",
        "8. Make a scatterplot of `grad_100_value` by `aid_value`. Describe what you see. Now make the same plot, grouping by `level` and then `control`. Describe what you see. For which kinds of institutions does aid seem to increase graduation rates?"
      ],
      "metadata": {
        "id": "kIqVzx_583J9"
      },
      "id": "kIqVzx_583J9"
    },
    {
      "cell_type": "markdown",
      "source": [
        "**part 1:**"
      ],
      "metadata": {
        "id": "2M7C40_16LCE"
      },
      "id": "2M7C40_16LCE"
    },
    {
      "cell_type": "code",
      "source": [
        "import numpy as np  # Import NumPy\n",
        "import pandas as pd  # Import Pandas\n",
        "import seaborn as sns # Import Seaborn\n",
        "cc_df = pd.read_csv('/content/visualization/assignment/data/college_completion.csv',low_memory=False)"
      ],
      "metadata": {
        "id": "j3V8J77L56hB"
      },
      "id": "j3V8J77L56hB",
      "execution_count": 86,
      "outputs": []
    },
    {
      "cell_type": "markdown",
      "source": [
        "**part 2: What are are the dimensions of the data? How many observations are there? What are the variables included? Use .head() to examine the first few rows of data.**"
      ],
      "metadata": {
        "id": "s2Btjq7m6WLu"
      },
      "id": "s2Btjq7m6WLu"
    },
    {
      "cell_type": "code",
      "source": [
        "print(cc_df.shape)\n",
        "print(cc_df.head())\n",
        "#~3798 observations and 63 variables"
      ],
      "metadata": {
        "colab": {
          "base_uri": "https://localhost:8080/"
        },
        "id": "fl1rKCnN6Vxk",
        "outputId": "8899b288-4a82-4faf-9daa-1c489b74ab3b"
      },
      "id": "fl1rKCnN6Vxk",
      "execution_count": 108,
      "outputs": [
        {
          "output_type": "stream",
          "name": "stdout",
          "text": [
            "(3798, 63)\n",
            "   index  unitid                            chronname        city    state  \\\n",
            "0      0  100654               Alabama A&M University      Normal  Alabama   \n",
            "1      1  100663  University of Alabama at Birmingham  Birmingham  Alabama   \n",
            "2      2  100690                   Amridge University  Montgomery  Alabama   \n",
            "3      3  100706  University of Alabama at Huntsville  Huntsville  Alabama   \n",
            "4      4  100724             Alabama State University  Montgomery  Alabama   \n",
            "\n",
            "    level                 control  \\\n",
            "0  4-year                  Public   \n",
            "1  4-year                  Public   \n",
            "2  4-year  Private not-for-profit   \n",
            "3  4-year                  Public   \n",
            "4  4-year                  Public   \n",
            "\n",
            "                                               basic hbcu flagship  ...  \\\n",
            "0  Masters Colleges and Universities--larger prog...    X      NaN  ...   \n",
            "1  Research Universities--very high research acti...  NaN      NaN  ...   \n",
            "2            Baccalaureate Colleges--Arts & Sciences  NaN      NaN  ...   \n",
            "3  Research Universities--very high research acti...  NaN      NaN  ...   \n",
            "4  Masters Colleges and Universities--larger prog...    X      NaN  ...   \n",
            "\n",
            "   vsa_grad_after6_transfer  vsa_grad_elsewhere_after6_transfer  \\\n",
            "0                      36.4                                 5.6   \n",
            "1                       NaN                                 NaN   \n",
            "2                       NaN                                 NaN   \n",
            "3                       0.0                                 0.0   \n",
            "4                       NaN                                 NaN   \n",
            "\n",
            "  vsa_enroll_after6_transfer  vsa_enroll_elsewhere_after6_transfer  \\\n",
            "0                       17.2                                  11.1   \n",
            "1                        NaN                                   NaN   \n",
            "2                        NaN                                   NaN   \n",
            "3                        0.0                                   0.0   \n",
            "4                        NaN                                   NaN   \n",
            "\n",
            "                                             similar  state_sector_ct  \\\n",
            "0  232937|100724|405997|113607|139533|144005|2285...               13   \n",
            "1  196060|180461|201885|145600|209542|236939|1268...               13   \n",
            "2  217925|441511|205124|247825|197647|221856|1353...               16   \n",
            "3  232186|133881|196103|196413|207388|171128|1900...               13   \n",
            "4  100654|232937|242617|243197|144005|241739|2354...               13   \n",
            "\n",
            "   carnegie_ct  counted_pct  nicknames  cohort_size  \n",
            "0          386      99.7|07        NaN        882.0  \n",
            "1          106      56.0|07        UAB       1376.0  \n",
            "2          252     100.0|07        NaN          3.0  \n",
            "3          106      43.1|07        UAH        759.0  \n",
            "4          386      88.0|07        ASU       1351.0  \n",
            "\n",
            "[5 rows x 63 columns]\n"
          ]
        }
      ]
    },
    {
      "cell_type": "markdown",
      "source": [
        "**Part 3: Cross tabulate control and level. Describe the patterns you see.**"
      ],
      "metadata": {
        "id": "L7PpwP-07aRK"
      },
      "id": "L7PpwP-07aRK"
    },
    {
      "cell_type": "code",
      "source": [
        "pd.crosstab(cc_df['control'], cc_df['level'])"
      ],
      "metadata": {
        "colab": {
          "base_uri": "https://localhost:8080/",
          "height": 175
        },
        "id": "66D4Hxo-7hQ2",
        "outputId": "9dff8319-b57c-4c46-b469-9cb7625cfe3d"
      },
      "id": "66D4Hxo-7hQ2",
      "execution_count": 109,
      "outputs": [
        {
          "output_type": "execute_result",
          "data": {
            "text/plain": [
              "level                   2-year  4-year\n",
              "control                               \n",
              "Private for-profit         465     527\n",
              "Private not-for-profit      68    1180\n",
              "Public                     926     632"
            ],
            "text/html": [
              "\n",
              "  <div id=\"df-4fbd50e9-df84-43b6-be0a-f74e3dcd06e9\" class=\"colab-df-container\">\n",
              "    <div>\n",
              "<style scoped>\n",
              "    .dataframe tbody tr th:only-of-type {\n",
              "        vertical-align: middle;\n",
              "    }\n",
              "\n",
              "    .dataframe tbody tr th {\n",
              "        vertical-align: top;\n",
              "    }\n",
              "\n",
              "    .dataframe thead th {\n",
              "        text-align: right;\n",
              "    }\n",
              "</style>\n",
              "<table border=\"1\" class=\"dataframe\">\n",
              "  <thead>\n",
              "    <tr style=\"text-align: right;\">\n",
              "      <th>level</th>\n",
              "      <th>2-year</th>\n",
              "      <th>4-year</th>\n",
              "    </tr>\n",
              "    <tr>\n",
              "      <th>control</th>\n",
              "      <th></th>\n",
              "      <th></th>\n",
              "    </tr>\n",
              "  </thead>\n",
              "  <tbody>\n",
              "    <tr>\n",
              "      <th>Private for-profit</th>\n",
              "      <td>465</td>\n",
              "      <td>527</td>\n",
              "    </tr>\n",
              "    <tr>\n",
              "      <th>Private not-for-profit</th>\n",
              "      <td>68</td>\n",
              "      <td>1180</td>\n",
              "    </tr>\n",
              "    <tr>\n",
              "      <th>Public</th>\n",
              "      <td>926</td>\n",
              "      <td>632</td>\n",
              "    </tr>\n",
              "  </tbody>\n",
              "</table>\n",
              "</div>\n",
              "    <div class=\"colab-df-buttons\">\n",
              "\n",
              "  <div class=\"colab-df-container\">\n",
              "    <button class=\"colab-df-convert\" onclick=\"convertToInteractive('df-4fbd50e9-df84-43b6-be0a-f74e3dcd06e9')\"\n",
              "            title=\"Convert this dataframe to an interactive table.\"\n",
              "            style=\"display:none;\">\n",
              "\n",
              "  <svg xmlns=\"http://www.w3.org/2000/svg\" height=\"24px\" viewBox=\"0 -960 960 960\">\n",
              "    <path d=\"M120-120v-720h720v720H120Zm60-500h600v-160H180v160Zm220 220h160v-160H400v160Zm0 220h160v-160H400v160ZM180-400h160v-160H180v160Zm440 0h160v-160H620v160ZM180-180h160v-160H180v160Zm440 0h160v-160H620v160Z\"/>\n",
              "  </svg>\n",
              "    </button>\n",
              "\n",
              "  <style>\n",
              "    .colab-df-container {\n",
              "      display:flex;\n",
              "      gap: 12px;\n",
              "    }\n",
              "\n",
              "    .colab-df-convert {\n",
              "      background-color: #E8F0FE;\n",
              "      border: none;\n",
              "      border-radius: 50%;\n",
              "      cursor: pointer;\n",
              "      display: none;\n",
              "      fill: #1967D2;\n",
              "      height: 32px;\n",
              "      padding: 0 0 0 0;\n",
              "      width: 32px;\n",
              "    }\n",
              "\n",
              "    .colab-df-convert:hover {\n",
              "      background-color: #E2EBFA;\n",
              "      box-shadow: 0px 1px 2px rgba(60, 64, 67, 0.3), 0px 1px 3px 1px rgba(60, 64, 67, 0.15);\n",
              "      fill: #174EA6;\n",
              "    }\n",
              "\n",
              "    .colab-df-buttons div {\n",
              "      margin-bottom: 4px;\n",
              "    }\n",
              "\n",
              "    [theme=dark] .colab-df-convert {\n",
              "      background-color: #3B4455;\n",
              "      fill: #D2E3FC;\n",
              "    }\n",
              "\n",
              "    [theme=dark] .colab-df-convert:hover {\n",
              "      background-color: #434B5C;\n",
              "      box-shadow: 0px 1px 3px 1px rgba(0, 0, 0, 0.15);\n",
              "      filter: drop-shadow(0px 1px 2px rgba(0, 0, 0, 0.3));\n",
              "      fill: #FFFFFF;\n",
              "    }\n",
              "  </style>\n",
              "\n",
              "    <script>\n",
              "      const buttonEl =\n",
              "        document.querySelector('#df-4fbd50e9-df84-43b6-be0a-f74e3dcd06e9 button.colab-df-convert');\n",
              "      buttonEl.style.display =\n",
              "        google.colab.kernel.accessAllowed ? 'block' : 'none';\n",
              "\n",
              "      async function convertToInteractive(key) {\n",
              "        const element = document.querySelector('#df-4fbd50e9-df84-43b6-be0a-f74e3dcd06e9');\n",
              "        const dataTable =\n",
              "          await google.colab.kernel.invokeFunction('convertToInteractive',\n",
              "                                                    [key], {});\n",
              "        if (!dataTable) return;\n",
              "\n",
              "        const docLinkHtml = 'Like what you see? Visit the ' +\n",
              "          '<a target=\"_blank\" href=https://colab.research.google.com/notebooks/data_table.ipynb>data table notebook</a>'\n",
              "          + ' to learn more about interactive tables.';\n",
              "        element.innerHTML = '';\n",
              "        dataTable['output_type'] = 'display_data';\n",
              "        await google.colab.output.renderOutput(dataTable, element);\n",
              "        const docLink = document.createElement('div');\n",
              "        docLink.innerHTML = docLinkHtml;\n",
              "        element.appendChild(docLink);\n",
              "      }\n",
              "    </script>\n",
              "  </div>\n",
              "\n",
              "\n",
              "<div id=\"df-67c3ebd2-a0be-46ba-a7a4-c3c67294b98b\">\n",
              "  <button class=\"colab-df-quickchart\" onclick=\"quickchart('df-67c3ebd2-a0be-46ba-a7a4-c3c67294b98b')\"\n",
              "            title=\"Suggest charts\"\n",
              "            style=\"display:none;\">\n",
              "\n",
              "<svg xmlns=\"http://www.w3.org/2000/svg\" height=\"24px\"viewBox=\"0 0 24 24\"\n",
              "     width=\"24px\">\n",
              "    <g>\n",
              "        <path d=\"M19 3H5c-1.1 0-2 .9-2 2v14c0 1.1.9 2 2 2h14c1.1 0 2-.9 2-2V5c0-1.1-.9-2-2-2zM9 17H7v-7h2v7zm4 0h-2V7h2v10zm4 0h-2v-4h2v4z\"/>\n",
              "    </g>\n",
              "</svg>\n",
              "  </button>\n",
              "\n",
              "<style>\n",
              "  .colab-df-quickchart {\n",
              "      --bg-color: #E8F0FE;\n",
              "      --fill-color: #1967D2;\n",
              "      --hover-bg-color: #E2EBFA;\n",
              "      --hover-fill-color: #174EA6;\n",
              "      --disabled-fill-color: #AAA;\n",
              "      --disabled-bg-color: #DDD;\n",
              "  }\n",
              "\n",
              "  [theme=dark] .colab-df-quickchart {\n",
              "      --bg-color: #3B4455;\n",
              "      --fill-color: #D2E3FC;\n",
              "      --hover-bg-color: #434B5C;\n",
              "      --hover-fill-color: #FFFFFF;\n",
              "      --disabled-bg-color: #3B4455;\n",
              "      --disabled-fill-color: #666;\n",
              "  }\n",
              "\n",
              "  .colab-df-quickchart {\n",
              "    background-color: var(--bg-color);\n",
              "    border: none;\n",
              "    border-radius: 50%;\n",
              "    cursor: pointer;\n",
              "    display: none;\n",
              "    fill: var(--fill-color);\n",
              "    height: 32px;\n",
              "    padding: 0;\n",
              "    width: 32px;\n",
              "  }\n",
              "\n",
              "  .colab-df-quickchart:hover {\n",
              "    background-color: var(--hover-bg-color);\n",
              "    box-shadow: 0 1px 2px rgba(60, 64, 67, 0.3), 0 1px 3px 1px rgba(60, 64, 67, 0.15);\n",
              "    fill: var(--button-hover-fill-color);\n",
              "  }\n",
              "\n",
              "  .colab-df-quickchart-complete:disabled,\n",
              "  .colab-df-quickchart-complete:disabled:hover {\n",
              "    background-color: var(--disabled-bg-color);\n",
              "    fill: var(--disabled-fill-color);\n",
              "    box-shadow: none;\n",
              "  }\n",
              "\n",
              "  .colab-df-spinner {\n",
              "    border: 2px solid var(--fill-color);\n",
              "    border-color: transparent;\n",
              "    border-bottom-color: var(--fill-color);\n",
              "    animation:\n",
              "      spin 1s steps(1) infinite;\n",
              "  }\n",
              "\n",
              "  @keyframes spin {\n",
              "    0% {\n",
              "      border-color: transparent;\n",
              "      border-bottom-color: var(--fill-color);\n",
              "      border-left-color: var(--fill-color);\n",
              "    }\n",
              "    20% {\n",
              "      border-color: transparent;\n",
              "      border-left-color: var(--fill-color);\n",
              "      border-top-color: var(--fill-color);\n",
              "    }\n",
              "    30% {\n",
              "      border-color: transparent;\n",
              "      border-left-color: var(--fill-color);\n",
              "      border-top-color: var(--fill-color);\n",
              "      border-right-color: var(--fill-color);\n",
              "    }\n",
              "    40% {\n",
              "      border-color: transparent;\n",
              "      border-right-color: var(--fill-color);\n",
              "      border-top-color: var(--fill-color);\n",
              "    }\n",
              "    60% {\n",
              "      border-color: transparent;\n",
              "      border-right-color: var(--fill-color);\n",
              "    }\n",
              "    80% {\n",
              "      border-color: transparent;\n",
              "      border-right-color: var(--fill-color);\n",
              "      border-bottom-color: var(--fill-color);\n",
              "    }\n",
              "    90% {\n",
              "      border-color: transparent;\n",
              "      border-bottom-color: var(--fill-color);\n",
              "    }\n",
              "  }\n",
              "</style>\n",
              "\n",
              "  <script>\n",
              "    async function quickchart(key) {\n",
              "      const quickchartButtonEl =\n",
              "        document.querySelector('#' + key + ' button');\n",
              "      quickchartButtonEl.disabled = true;  // To prevent multiple clicks.\n",
              "      quickchartButtonEl.classList.add('colab-df-spinner');\n",
              "      try {\n",
              "        const charts = await google.colab.kernel.invokeFunction(\n",
              "            'suggestCharts', [key], {});\n",
              "      } catch (error) {\n",
              "        console.error('Error during call to suggestCharts:', error);\n",
              "      }\n",
              "      quickchartButtonEl.classList.remove('colab-df-spinner');\n",
              "      quickchartButtonEl.classList.add('colab-df-quickchart-complete');\n",
              "    }\n",
              "    (() => {\n",
              "      let quickchartButtonEl =\n",
              "        document.querySelector('#df-67c3ebd2-a0be-46ba-a7a4-c3c67294b98b button');\n",
              "      quickchartButtonEl.style.display =\n",
              "        google.colab.kernel.accessAllowed ? 'block' : 'none';\n",
              "    })();\n",
              "  </script>\n",
              "</div>\n",
              "\n",
              "    </div>\n",
              "  </div>\n"
            ],
            "application/vnd.google.colaboratory.intrinsic+json": {
              "type": "dataframe",
              "summary": "{\n  \"name\": \"pd\",\n  \"rows\": 3,\n  \"fields\": [\n    {\n      \"column\": \"control\",\n      \"properties\": {\n        \"dtype\": \"string\",\n        \"num_unique_values\": 3,\n        \"samples\": [\n          \"Private for-profit\",\n          \"Private not-for-profit\",\n          \"Public\"\n        ],\n        \"semantic_type\": \"\",\n        \"description\": \"\"\n      }\n    },\n    {\n      \"column\": \"2-year\",\n      \"properties\": {\n        \"dtype\": \"number\",\n        \"std\": 429,\n        \"min\": 68,\n        \"max\": 926,\n        \"num_unique_values\": 3,\n        \"samples\": [\n          465,\n          68,\n          926\n        ],\n        \"semantic_type\": \"\",\n        \"description\": \"\"\n      }\n    },\n    {\n      \"column\": \"4-year\",\n      \"properties\": {\n        \"dtype\": \"number\",\n        \"std\": 350,\n        \"min\": 527,\n        \"max\": 1180,\n        \"num_unique_values\": 3,\n        \"samples\": [\n          527,\n          1180,\n          632\n        ],\n        \"semantic_type\": \"\",\n        \"description\": \"\"\n      }\n    }\n  ]\n}"
            }
          },
          "metadata": {},
          "execution_count": 109
        }
      ]
    },
    {
      "cell_type": "markdown",
      "source": [
        "a majority of the data is on public schools. Most private not-for-profit schools are for 4-year degrees whereas private for-profit has a relatively even split and public schools  have a majority 2-year degrees."
      ],
      "metadata": {
        "id": "WgDwn6fG7r9e"
      },
      "id": "WgDwn6fG7r9e"
    },
    {
      "cell_type": "markdown",
      "source": [
        "**part 4: For grad_100_value, create a histogram, kernel density plot, boxplot, and statistical description**."
      ],
      "metadata": {
        "id": "syf_CvLT7tBL"
      },
      "id": "syf_CvLT7tBL"
    },
    {
      "cell_type": "code",
      "source": [
        "# AI prompt: For grad_100_value, create a histogram, kernel density plot, boxplot, and statistical description.\n",
        "\n",
        "sns.histplot(cc_df['grad_100_value'])"
      ],
      "metadata": {
        "colab": {
          "base_uri": "https://localhost:8080/",
          "height": 468
        },
        "id": "T4fk5Kab7qDk",
        "outputId": "cf725260-915f-4f69-bdaa-3b926065061c"
      },
      "id": "T4fk5Kab7qDk",
      "execution_count": 111,
      "outputs": [
        {
          "output_type": "execute_result",
          "data": {
            "text/plain": [
              "<Axes: xlabel='grad_100_value', ylabel='Count'>"
            ]
          },
          "metadata": {},
          "execution_count": 111
        },
        {
          "output_type": "display_data",
          "data": {
            "text/plain": [
              "<Figure size 640x480 with 1 Axes>"
            ],
            "image/png": "[encoded data removed]"
          },
          "metadata": {}
        }
      ]
    },
    {
      "cell_type": "code",
      "source": [
        "sns.kdeplot(cc_df['grad_100_value'])"
      ],
      "metadata": {
        "colab": {
          "base_uri": "https://localhost:8080/",
          "height": 468
        },
        "id": "SzDgQIcX8QlO",
        "outputId": "3cdc9ebf-67db-4ef6-823d-1c371cb810c4"
      },
      "id": "SzDgQIcX8QlO",
      "execution_count": 112,
      "outputs": [
        {
          "output_type": "execute_result",
          "data": {
            "text/plain": [
              "<Axes: xlabel='grad_100_value', ylabel='Density'>"
            ]
          },
          "metadata": {},
          "execution_count": 112
        },
        {
          "output_type": "display_data",
          "data": {
            "text/plain": [
              "<Figure size 640x480 with 1 Axes>"
            ],
            "image/png": "[encoded data removed]"
          },
          "metadata": {}
        }
      ]
    },
    {
      "cell_type": "code",
      "source": [
        "sns.boxplot(x=cc_df['grad_100_value'])"
      ],
      "metadata": {
        "colab": {
          "base_uri": "https://localhost:8080/",
          "height": 468
        },
        "id": "S16MQrXb8Rkx",
        "outputId": "148ef527-aa88-490e-8530-a0a8a81cec1d"
      },
      "id": "S16MQrXb8Rkx",
      "execution_count": 113,
      "outputs": [
        {
          "output_type": "execute_result",
          "data": {
            "text/plain": [
              "<Axes: xlabel='grad_100_value'>"
            ]
          },
          "metadata": {},
          "execution_count": 113
        },
        {
          "output_type": "display_data",
          "data": {
            "text/plain": [
              "<Figure size 640x480 with 1 Axes>"
            ],
            "image/png": "[encoded data removed]"
          },
          "metadata": {}
        }
      ]
    },
    {
      "cell_type": "code",
      "source": [
        "cc_df['grad_100_value'].describe()"
      ],
      "metadata": {
        "colab": {
          "base_uri": "https://localhost:8080/",
          "height": 335
        },
        "id": "Gx7ucQKx8Se1",
        "outputId": "20e1083e-a849-48f2-9d16-a5ec87f3253d"
      },
      "id": "Gx7ucQKx8Se1",
      "execution_count": 114,
      "outputs": [
        {
          "output_type": "execute_result",
          "data": {
            "text/plain": [
              "count    3467.000000\n",
              "mean       28.364465\n",
              "std        23.312730\n",
              "min         0.000000\n",
              "25%         9.000000\n",
              "50%        22.500000\n",
              "75%        43.650000\n",
              "max       100.000000\n",
              "Name: grad_100_value, dtype: float64"
            ],
            "text/html": [
              "<div>\n",
              "<style scoped>\n",
              "    .dataframe tbody tr th:only-of-type {\n",
              "        vertical-align: middle;\n",
              "    }\n",
              "\n",
              "    .dataframe tbody tr th {\n",
              "        vertical-align: top;\n",
              "    }\n",
              "\n",
              "    .dataframe thead th {\n",
              "        text-align: right;\n",
              "    }\n",
              "</style>\n",
              "<table border=\"1\" class=\"dataframe\">\n",
              "  <thead>\n",
              "    <tr style=\"text-align: right;\">\n",
              "      <th></th>\n",
              "      <th>grad_100_value</th>\n",
              "    </tr>\n",
              "  </thead>\n",
              "  <tbody>\n",
              "    <tr>\n",
              "      <th>count</th>\n",
              "      <td>3467.000000</td>\n",
              "    </tr>\n",
              "    <tr>\n",
              "      <th>mean</th>\n",
              "      <td>28.364465</td>\n",
              "    </tr>\n",
              "    <tr>\n",
              "      <th>std</th>\n",
              "      <td>23.312730</td>\n",
              "    </tr>\n",
              "    <tr>\n",
              "      <th>min</th>\n",
              "      <td>0.000000</td>\n",
              "    </tr>\n",
              "    <tr>\n",
              "      <th>25%</th>\n",
              "      <td>9.000000</td>\n",
              "    </tr>\n",
              "    <tr>\n",
              "      <th>50%</th>\n",
              "      <td>22.500000</td>\n",
              "    </tr>\n",
              "    <tr>\n",
              "      <th>75%</th>\n",
              "      <td>43.650000</td>\n",
              "    </tr>\n",
              "    <tr>\n",
              "      <th>max</th>\n",
              "      <td>100.000000</td>\n",
              "    </tr>\n",
              "  </tbody>\n",
              "</table>\n",
              "</div><br><label><b>dtype:</b> float64</label>"
            ]
          },
          "metadata": {},
          "execution_count": 114
        }
      ]
    },
    {
      "cell_type": "markdown",
      "source": [
        "**part 5: For grad_100_value, create a grouped kernel density plot by control and by level. Describe what you see. Use groupby and .describe to make grouped calculations of statistical descriptions of grad_100_value by level and control. Which institutions appear to have the best graduation rates?**"
      ],
      "metadata": {
        "id": "m2rFtwP88c7k"
      },
      "id": "m2rFtwP88c7k"
    },
    {
      "cell_type": "code",
      "source": [],
      "metadata": {
        "id": "cY590H_H8eww"
      },
      "id": "cY590H_H8eww",
      "execution_count": null,
      "outputs": []
    },
    {
      "cell_type": "markdown",
      "source": [
        "# Question 4:"
      ],
      "metadata": {
        "id": "do0hSY0Om7Ed"
      },
      "id": "do0hSY0Om7Ed"
    },
    {
      "cell_type": "markdown",
      "source": [
        "**Q4.** Go to https://data.cms.gov/search.\n",
        "1. Pick a dataset about something you are interested in. Download the data and data dictionary. If you really can't decide, you can always use this one: https://data.cms.gov/medicare-current-beneficiary-survey-mcbs/medicare-current-beneficiary-survey-data\n",
        "3. Does the data dictionary document how missings are handled? For categorical variables, does it describe the possible values and missing value codes? For the numeric variables, does it describe how missing values are handled? Summarize your opinion of the data dictionary.\n",
        "4. Pick out a few interesting variables, and explain why you find them jointly interesting. Clean those variables, documenting your choices by commenting in the code or in a markdown chunk in a notebook.\n",
        "5. For the variables you select, make a boxplot for each numeric variable and a bar graph for each categorical variable. Do you see any outliers?\n",
        "6. Create a histogram or kernel density plot, and explain what you see. Do the results require any transformations to rescale them?\n",
        "7. Create a scatter plot, and describe the relationship you see.\n",
        "8. Create a table (cross tabulation, variance-covariance, or a `.describe()` five-number summary), and explain what you see."
      ],
      "metadata": {
        "id": "8ml5tJZz8yfx"
      },
      "id": "8ml5tJZz8yfx"
    },
    {
      "cell_type": "markdown",
      "source": [
        "**Part 1:**"
      ],
      "metadata": {
        "id": "xjxK0uvZkt5o"
      },
      "id": "xjxK0uvZkt5o"
    },
    {
      "cell_type": "code",
      "source": [
        "import numpy as np  # Import NumPy\n",
        "import pandas as pd  # Import Pandas\n",
        "import seaborn as sns # Import Seaborn\n",
        "#Medicare Current Beneficiary Survey - Survey File (Fall 2021)\n",
        "Medicare_Survey_df = pd.read_csv('/content/visualization/assignment/data/sfpuf2021_1_fall.csv',low_memory=False, encoding='latin-1') #the AI debugging feature told me to add the \"encoding='latin-1'\" and that worked"
      ],
      "metadata": {
        "id": "yf5PybVqgs1k"
      },
      "id": "yf5PybVqgs1k",
      "execution_count": 87,
      "outputs": []
    },
    {
      "cell_type": "code",
      "source": [
        "Medicare_Survey_df.head()"
      ],
      "metadata": {
        "colab": {
          "base_uri": "https://localhost:8080/",
          "height": 256
        },
        "id": "iYvLNL9fiNQa",
        "outputId": "e820f5f2-10fe-4794-996e-0d2c6e59a916"
      },
      "id": "iYvLNL9fiNQa",
      "execution_count": 88,
      "outputs": [
        {
          "output_type": "execute_result",
          "data": {
            "text/plain": [
              "     PUF_ID  SURVEYYR  VERSION  ADM_H_MEDSTA  ADM_H_GHPSW  ADM_H_PDRS  \\\n",
              "0  21000003      2021        1             1            2         1.0   \n",
              "1  21000004      2021        1             1            2         1.0   \n",
              "2  21000005      2021        1             1            2         1.0   \n",
              "3  21000011      2021        1             1            2         1.0   \n",
              "4  21000012      2021        1             1            1         1.0   \n",
              "\n",
              "   ADM_OP_MDCD  ADM_DUAL_FLAG_YR  ADM_FFS_FLAG_YR  ADM_MA_FLAG_YR  ...  \\\n",
              "0            1                 1                3               1  ...   \n",
              "1            1                 1                3               1  ...   \n",
              "2            1                 1                3               1  ...   \n",
              "3            1                 1                3               1  ...   \n",
              "4            2                 3                1               3  ...   \n",
              "\n",
              "        PUFF091       PUFF092       PUFF093      PUFF094      PUFF095  \\\n",
              "0    988.252590   5273.441518   1095.075758  1245.906455  6049.581125   \n",
              "1  22599.768459   3574.297077   2905.632202  3011.695926  4283.873099   \n",
              "2   3998.371708   3748.552103    574.146156  4082.909199   559.108837   \n",
              "3   5679.361042    982.382754   1046.200903  1103.813758  1085.475033   \n",
              "4  12188.282713  14418.230488  10457.419141  2761.012141  2160.504248   \n",
              "\n",
              "        PUFF096       PUFF097       PUFF098       PUFF099       PUFF100  \n",
              "0    994.556718   5490.385215   1264.822658   5632.555206    989.464837  \n",
              "1  18154.868227  16722.373362  15553.879545  14193.033902  18737.870831  \n",
              "2    571.423027   3550.951071   4554.459435    605.491265    612.180490  \n",
              "3   1231.049575   1157.845607    720.394183   1134.894480    778.578574  \n",
              "4   2346.820214   2230.871858  17188.553558  12597.595445  13900.497117  \n",
              "\n",
              "[5 rows x 337 columns]"
            ],
            "text/html": [
              "\n",
              "  <div id=\"df-a1adde82-71f6-4b82-86b3-7fd12f8ef5cc\" class=\"colab-df-container\">\n",
              "    <div>\n",
              "<style scoped>\n",
              "    .dataframe tbody tr th:only-of-type {\n",
              "        vertical-align: middle;\n",
              "    }\n",
              "\n",
              "    .dataframe tbody tr th {\n",
              "        vertical-align: top;\n",
              "    }\n",
              "\n",
              "    .dataframe thead th {\n",
              "        text-align: right;\n",
              "    }\n",
              "</style>\n",
              "<table border=\"1\" class=\"dataframe\">\n",
              "  <thead>\n",
              "    <tr style=\"text-align: right;\">\n",
              "      <th></th>\n",
              "      <th>PUF_ID</th>\n",
              "      <th>SURVEYYR</th>\n",
              "      <th>VERSION</th>\n",
              "      <th>ADM_H_MEDSTA</th>\n",
              "      <th>ADM_H_GHPSW</th>\n",
              "      <th>ADM_H_PDRS</th>\n",
              "      <th>ADM_OP_MDCD</th>\n",
              "      <th>ADM_DUAL_FLAG_YR</th>\n",
              "      <th>ADM_FFS_FLAG_YR</th>\n",
              "      <th>ADM_MA_FLAG_YR</th>\n",
              "      <th>...</th>\n",
              "      <th>PUFF091</th>\n",
              "      <th>PUFF092</th>\n",
              "      <th>PUFF093</th>\n",
              "      <th>PUFF094</th>\n",
              "      <th>PUFF095</th>\n",
              "      <th>PUFF096</th>\n",
              "      <th>PUFF097</th>\n",
              "      <th>PUFF098</th>\n",
              "      <th>PUFF099</th>\n",
              "      <th>PUFF100</th>\n",
              "    </tr>\n",
              "  </thead>\n",
              "  <tbody>\n",
              "    <tr>\n",
              "      <th>0</th>\n",
              "      <td>21000003</td>\n",
              "      <td>2021</td>\n",
              "      <td>1</td>\n",
              "      <td>1</td>\n",
              "      <td>2</td>\n",
              "      <td>1.0</td>\n",
              "      <td>1</td>\n",
              "      <td>1</td>\n",
              "      <td>3</td>\n",
              "      <td>1</td>\n",
              "      <td>...</td>\n",
              "      <td>988.252590</td>\n",
              "      <td>5273.441518</td>\n",
              "      <td>1095.075758</td>\n",
              "      <td>1245.906455</td>\n",
              "      <td>6049.581125</td>\n",
              "      <td>994.556718</td>\n",
              "      <td>5490.385215</td>\n",
              "      <td>1264.822658</td>\n",
              "      <td>5632.555206</td>\n",
              "      <td>989.464837</td>\n",
              "    </tr>\n",
              "    <tr>\n",
              "      <th>1</th>\n",
              "      <td>21000004</td>\n",
              "      <td>2021</td>\n",
              "      <td>1</td>\n",
              "      <td>1</td>\n",
              "      <td>2</td>\n",
              "      <td>1.0</td>\n",
              "      <td>1</td>\n",
              "      <td>1</td>\n",
              "      <td>3</td>\n",
              "      <td>1</td>\n",
              "      <td>...</td>\n",
              "      <td>22599.768459</td>\n",
              "      <td>3574.297077</td>\n",
              "      <td>2905.632202</td>\n",
              "      <td>3011.695926</td>\n",
              "      <td>4283.873099</td>\n",
              "      <td>18154.868227</td>\n",
              "      <td>16722.373362</td>\n",
              "      <td>15553.879545</td>\n",
              "      <td>14193.033902</td>\n",
              "      <td>18737.870831</td>\n",
              "    </tr>\n",
              "    <tr>\n",
              "      <th>2</th>\n",
              "      <td>21000005</td>\n",
              "      <td>2021</td>\n",
              "      <td>1</td>\n",
              "      <td>1</td>\n",
              "      <td>2</td>\n",
              "      <td>1.0</td>\n",
              "      <td>1</td>\n",
              "      <td>1</td>\n",
              "      <td>3</td>\n",
              "      <td>1</td>\n",
              "      <td>...</td>\n",
              "      <td>3998.371708</td>\n",
              "      <td>3748.552103</td>\n",
              "      <td>574.146156</td>\n",
              "      <td>4082.909199</td>\n",
              "      <td>559.108837</td>\n",
              "      <td>571.423027</td>\n",
              "      <td>3550.951071</td>\n",
              "      <td>4554.459435</td>\n",
              "      <td>605.491265</td>\n",
              "      <td>612.180490</td>\n",
              "    </tr>\n",
              "    <tr>\n",
              "      <th>3</th>\n",
              "      <td>21000011</td>\n",
              "      <td>2021</td>\n",
              "      <td>1</td>\n",
              "      <td>1</td>\n",
              "      <td>2</td>\n",
              "      <td>1.0</td>\n",
              "      <td>1</td>\n",
              "      <td>1</td>\n",
              "      <td>3</td>\n",
              "      <td>1</td>\n",
              "      <td>...</td>\n",
              "      <td>5679.361042</td>\n",
              "      <td>982.382754</td>\n",
              "      <td>1046.200903</td>\n",
              "      <td>1103.813758</td>\n",
              "      <td>1085.475033</td>\n",
              "      <td>1231.049575</td>\n",
              "      <td>1157.845607</td>\n",
              "      <td>720.394183</td>\n",
              "      <td>1134.894480</td>\n",
              "      <td>778.578574</td>\n",
              "    </tr>\n",
              "    <tr>\n",
              "      <th>4</th>\n",
              "      <td>21000012</td>\n",
              "      <td>2021</td>\n",
              "      <td>1</td>\n",
              "      <td>1</td>\n",
              "      <td>1</td>\n",
              "      <td>1.0</td>\n",
              "      <td>2</td>\n",
              "      <td>3</td>\n",
              "      <td>1</td>\n",
              "      <td>3</td>\n",
              "      <td>...</td>\n",
              "      <td>12188.282713</td>\n",
              "      <td>14418.230488</td>\n",
              "      <td>10457.419141</td>\n",
              "      <td>2761.012141</td>\n",
              "      <td>2160.504248</td>\n",
              "      <td>2346.820214</td>\n",
              "      <td>2230.871858</td>\n",
              "      <td>17188.553558</td>\n",
              "      <td>12597.595445</td>\n",
              "      <td>13900.497117</td>\n",
              "    </tr>\n",
              "  </tbody>\n",
              "</table>\n",
              "<p>5 rows × 337 columns</p>\n",
              "</div>\n",
              "    <div class=\"colab-df-buttons\">\n",
              "\n",
              "  <div class=\"colab-df-container\">\n",
              "    <button class=\"colab-df-convert\" onclick=\"convertToInteractive('df-a1adde82-71f6-4b82-86b3-7fd12f8ef5cc')\"\n",
              "            title=\"Convert this dataframe to an interactive table.\"\n",
              "            style=\"display:none;\">\n",
              "\n",
              "  <svg xmlns=\"http://www.w3.org/2000/svg\" height=\"24px\" viewBox=\"0 -960 960 960\">\n",
              "    <path d=\"M120-120v-720h720v720H120Zm60-500h600v-160H180v160Zm220 220h160v-160H400v160Zm0 220h160v-160H400v160ZM180-400h160v-160H180v160Zm440 0h160v-160H620v160ZM180-180h160v-160H180v160Zm440 0h160v-160H620v160Z\"/>\n",
              "  </svg>\n",
              "    </button>\n",
              "\n",
              "  <style>\n",
              "    .colab-df-container {\n",
              "      display:flex;\n",
              "      gap: 12px;\n",
              "    }\n",
              "\n",
              "    .colab-df-convert {\n",
              "      background-color: #E8F0FE;\n",
              "      border: none;\n",
              "      border-radius: 50%;\n",
              "      cursor: pointer;\n",
              "      display: none;\n",
              "      fill: #1967D2;\n",
              "      height: 32px;\n",
              "      padding: 0 0 0 0;\n",
              "      width: 32px;\n",
              "    }\n",
              "\n",
              "    .colab-df-convert:hover {\n",
              "      background-color: #E2EBFA;\n",
              "      box-shadow: 0px 1px 2px rgba(60, 64, 67, 0.3), 0px 1px 3px 1px rgba(60, 64, 67, 0.15);\n",
              "      fill: #174EA6;\n",
              "    }\n",
              "\n",
              "    .colab-df-buttons div {\n",
              "      margin-bottom: 4px;\n",
              "    }\n",
              "\n",
              "    [theme=dark] .colab-df-convert {\n",
              "      background-color: #3B4455;\n",
              "      fill: #D2E3FC;\n",
              "    }\n",
              "\n",
              "    [theme=dark] .colab-df-convert:hover {\n",
              "      background-color: #434B5C;\n",
              "      box-shadow: 0px 1px 3px 1px rgba(0, 0, 0, 0.15);\n",
              "      filter: drop-shadow(0px 1px 2px rgba(0, 0, 0, 0.3));\n",
              "      fill: #FFFFFF;\n",
              "    }\n",
              "  </style>\n",
              "\n",
              "    <script>\n",
              "      const buttonEl =\n",
              "        document.querySelector('#df-a1adde82-71f6-4b82-86b3-7fd12f8ef5cc button.colab-df-convert');\n",
              "      buttonEl.style.display =\n",
              "        google.colab.kernel.accessAllowed ? 'block' : 'none';\n",
              "\n",
              "      async function convertToInteractive(key) {\n",
              "        const element = document.querySelector('#df-a1adde82-71f6-4b82-86b3-7fd12f8ef5cc');\n",
              "        const dataTable =\n",
              "          await google.colab.kernel.invokeFunction('convertToInteractive',\n",
              "                                                    [key], {});\n",
              "        if (!dataTable) return;\n",
              "\n",
              "        const docLinkHtml = 'Like what you see? Visit the ' +\n",
              "          '<a target=\"_blank\" href=https://colab.research.google.com/notebooks/data_table.ipynb>data table notebook</a>'\n",
              "          + ' to learn more about interactive tables.';\n",
              "        element.innerHTML = '';\n",
              "        dataTable['output_type'] = 'display_data';\n",
              "        await google.colab.output.renderOutput(dataTable, element);\n",
              "        const docLink = document.createElement('div');\n",
              "        docLink.innerHTML = docLinkHtml;\n",
              "        element.appendChild(docLink);\n",
              "      }\n",
              "    </script>\n",
              "  </div>\n",
              "\n",
              "\n",
              "<div id=\"df-68d66195-2b7e-4c2e-ab74-efc0e728ed5c\">\n",
              "  <button class=\"colab-df-quickchart\" onclick=\"quickchart('df-68d66195-2b7e-4c2e-ab74-efc0e728ed5c')\"\n",
              "            title=\"Suggest charts\"\n",
              "            style=\"display:none;\">\n",
              "\n",
              "<svg xmlns=\"http://www.w3.org/2000/svg\" height=\"24px\"viewBox=\"0 0 24 24\"\n",
              "     width=\"24px\">\n",
              "    <g>\n",
              "        <path d=\"M19 3H5c-1.1 0-2 .9-2 2v14c0 1.1.9 2 2 2h14c1.1 0 2-.9 2-2V5c0-1.1-.9-2-2-2zM9 17H7v-7h2v7zm4 0h-2V7h2v10zm4 0h-2v-4h2v4z\"/>\n",
              "    </g>\n",
              "</svg>\n",
              "  </button>\n",
              "\n",
              "<style>\n",
              "  .colab-df-quickchart {\n",
              "      --bg-color: #E8F0FE;\n",
              "      --fill-color: #1967D2;\n",
              "      --hover-bg-color: #E2EBFA;\n",
              "      --hover-fill-color: #174EA6;\n",
              "      --disabled-fill-color: #AAA;\n",
              "      --disabled-bg-color: #DDD;\n",
              "  }\n",
              "\n",
              "  [theme=dark] .colab-df-quickchart {\n",
              "      --bg-color: #3B4455;\n",
              "      --fill-color: #D2E3FC;\n",
              "      --hover-bg-color: #434B5C;\n",
              "      --hover-fill-color: #FFFFFF;\n",
              "      --disabled-bg-color: #3B4455;\n",
              "      --disabled-fill-color: #666;\n",
              "  }\n",
              "\n",
              "  .colab-df-quickchart {\n",
              "    background-color: var(--bg-color);\n",
              "    border: none;\n",
              "    border-radius: 50%;\n",
              "    cursor: pointer;\n",
              "    display: none;\n",
              "    fill: var(--fill-color);\n",
              "    height: 32px;\n",
              "    padding: 0;\n",
              "    width: 32px;\n",
              "  }\n",
              "\n",
              "  .colab-df-quickchart:hover {\n",
              "    background-color: var(--hover-bg-color);\n",
              "    box-shadow: 0 1px 2px rgba(60, 64, 67, 0.3), 0 1px 3px 1px rgba(60, 64, 67, 0.15);\n",
              "    fill: var(--button-hover-fill-color);\n",
              "  }\n",
              "\n",
              "  .colab-df-quickchart-complete:disabled,\n",
              "  .colab-df-quickchart-complete:disabled:hover {\n",
              "    background-color: var(--disabled-bg-color);\n",
              "    fill: var(--disabled-fill-color);\n",
              "    box-shadow: none;\n",
              "  }\n",
              "\n",
              "  .colab-df-spinner {\n",
              "    border: 2px solid var(--fill-color);\n",
              "    border-color: transparent;\n",
              "    border-bottom-color: var(--fill-color);\n",
              "    animation:\n",
              "      spin 1s steps(1) infinite;\n",
              "  }\n",
              "\n",
              "  @keyframes spin {\n",
              "    0% {\n",
              "      border-color: transparent;\n",
              "      border-bottom-color: var(--fill-color);\n",
              "      border-left-color: var(--fill-color);\n",
              "    }\n",
              "    20% {\n",
              "      border-color: transparent;\n",
              "      border-left-color: var(--fill-color);\n",
              "      border-top-color: var(--fill-color);\n",
              "    }\n",
              "    30% {\n",
              "      border-color: transparent;\n",
              "      border-left-color: var(--fill-color);\n",
              "      border-top-color: var(--fill-color);\n",
              "      border-right-color: var(--fill-color);\n",
              "    }\n",
              "    40% {\n",
              "      border-color: transparent;\n",
              "      border-right-color: var(--fill-color);\n",
              "      border-top-color: var(--fill-color);\n",
              "    }\n",
              "    60% {\n",
              "      border-color: transparent;\n",
              "      border-right-color: var(--fill-color);\n",
              "    }\n",
              "    80% {\n",
              "      border-color: transparent;\n",
              "      border-right-color: var(--fill-color);\n",
              "      border-bottom-color: var(--fill-color);\n",
              "    }\n",
              "    90% {\n",
              "      border-color: transparent;\n",
              "      border-bottom-color: var(--fill-color);\n",
              "    }\n",
              "  }\n",
              "</style>\n",
              "\n",
              "  <script>\n",
              "    async function quickchart(key) {\n",
              "      const quickchartButtonEl =\n",
              "        document.querySelector('#' + key + ' button');\n",
              "      quickchartButtonEl.disabled = true;  // To prevent multiple clicks.\n",
              "      quickchartButtonEl.classList.add('colab-df-spinner');\n",
              "      try {\n",
              "        const charts = await google.colab.kernel.invokeFunction(\n",
              "            'suggestCharts', [key], {});\n",
              "      } catch (error) {\n",
              "        console.error('Error during call to suggestCharts:', error);\n",
              "      }\n",
              "      quickchartButtonEl.classList.remove('colab-df-spinner');\n",
              "      quickchartButtonEl.classList.add('colab-df-quickchart-complete');\n",
              "    }\n",
              "    (() => {\n",
              "      let quickchartButtonEl =\n",
              "        document.querySelector('#df-68d66195-2b7e-4c2e-ab74-efc0e728ed5c button');\n",
              "      quickchartButtonEl.style.display =\n",
              "        google.colab.kernel.accessAllowed ? 'block' : 'none';\n",
              "    })();\n",
              "  </script>\n",
              "</div>\n",
              "\n",
              "    </div>\n",
              "  </div>\n"
            ],
            "application/vnd.google.colaboratory.intrinsic+json": {
              "type": "dataframe",
              "variable_name": "Medicare_Survey_df"
            }
          },
          "metadata": {},
          "execution_count": 88
        }
      ]
    },
    {
      "cell_type": "markdown",
      "source": [
        "**Part 2: Does the data dictionary document how missings are handled? For categorical variables, does it describe the possible values and missing value codes? For the numeric variables, does it describe how missing values are handled? Summarize your opinion of the data dictionary.**"
      ],
      "metadata": {
        "id": "sHzpW51qkxlj"
      },
      "id": "sHzpW51qkxlj"
    },
    {
      "cell_type": "markdown",
      "source": [
        "The data dictonary explains that inappicable.missing data is handled as:\n",
        "\" .  Inapplicable/Missing\"\n",
        "also .D:Don't know and .R:Refused are used.\n"
      ],
      "metadata": {
        "id": "yPluIZvCk0LJ"
      },
      "id": "yPluIZvCk0LJ"
    },
    {
      "cell_type": "markdown",
      "source": [
        "most catagorical variables are coded as numeric, for example Race/ethnicity age group is\n",
        "\n",
        "1:Non-Hispanic white, <65 years                                            \n",
        "2:Non-Hispanic white, 65-74 years                                          \n",
        "3:Non-Hispanic white, 75-84 years                                          \n",
        "4:Non-Hispanic white, 85+ years                                            \n",
        "5:Non-Hispanic black, <65 years                                            \n",
        "6:Non-Hispanic black, 65-74 years                                          \n",
        "7:Non-Hispanic black, 75-84 years                                          \n",
        "8:Non-Hispanic black, 85+ years                                            \n",
        "9:Hispanic, <65 years                                                      \n",
        "10:Hispanic, 65-74 years                                                   \n",
        "11:Hispanic, 75+ years                                                     \n",
        "12:Other, <65 years                                                        \n",
        "13:Other, 65-74 years                                                      \n",
        "14:Other, 75+ years"
      ],
      "metadata": {
        "id": "7jZ1BVRdlG18"
      },
      "id": "7jZ1BVRdlG18"
    },
    {
      "cell_type": "markdown",
      "source": [
        "The data dictionary is a plain text file which is slightly hard to follow, but overall the important information is provided"
      ],
      "metadata": {
        "id": "uESDNewnmKs5"
      },
      "id": "uESDNewnmKs5"
    },
    {
      "cell_type": "markdown",
      "source": [
        "**Part 3: Pick out a few interesting variables, and explain why you find them jointly interesting. Clean those variables, documenting your choices by commenting in the code or in a markdown chunk in a notebook.**"
      ],
      "metadata": {
        "id": "pGAKyr7cm20X"
      },
      "id": "pGAKyr7cm20X"
    },
    {
      "cell_type": "code",
      "source": [
        "#DEM_RACE\n",
        "#DEM_SEX\n",
        "#DEM_AGE\n",
        "#ADM_H_OUTSW --  1+ outpatient visit current yr (FFS) (1:yes, 2:no)\n",
        "#ADM_H_ACTSTY -- Number inpatient stays current yr (FFS) (0:no stay, 1:1 stay ... 4:4+ stay)\n",
        "#INS_D_PRIVNUM -- One or more private plans (1:yes, 2:no)\n",
        "#DEM_INCOME (1:<$25,000 ,2:>=$25,000)\n",
        "#HLT_OCDEPRSS Depression (ever) (.D:Don't know, .R:Refused,.  Inapplicable/Missing,1:Yes,2:No)"
      ],
      "metadata": {
        "id": "uioM-xcmnID_"
      },
      "id": "uioM-xcmnID_",
      "execution_count": 89,
      "outputs": []
    },
    {
      "cell_type": "code",
      "source": [
        "#I think that outpaitent visits and number of inpaitent stays is interesting to see if\n",
        "#out paitent visits leads to more or less need for extended in person stays"
      ],
      "metadata": {
        "id": "levG5YBgqweo"
      },
      "id": "levG5YBgqweo",
      "execution_count": 90,
      "outputs": []
    },
    {
      "cell_type": "code",
      "source": [
        "#rename variables\n",
        "Medicare_Survey_df = Medicare_Survey_df.rename(columns = {'ADM_H_ACTSTY':'inpatient_stays',\n",
        "                    'ADM_H_OUTSW':'outpatient_visit'}) # Rename variables"
      ],
      "metadata": {
        "id": "4iIGZbQwv0UE"
      },
      "id": "4iIGZbQwv0UE",
      "execution_count": 91,
      "outputs": []
    },
    {
      "cell_type": "code",
      "source": [
        "# I used the colab ai with the prompt: make outpatient_visit levels yes and no\n",
        "\n",
        "# Create a mapping dictionary for outpatient_visit\n",
        "outpatient_visit_mapping = {1: 'Yes', 2: 'No'}\n",
        "\n",
        "# Use the map function to replace the numeric values with 'Yes' and 'No'\n",
        "Medicare_Survey_df['outpatient_visit'] = Medicare_Survey_df['outpatient_visit'].map(outpatient_visit_mapping)\n",
        "\n",
        "# Print the updated DataFrame to verify the changes\n",
        "print(Medicare_Survey_df['outpatient_visit'].unique())\n"
      ],
      "metadata": {
        "colab": {
          "base_uri": "https://localhost:8080/"
        },
        "id": "IwxLmmo2w1bT",
        "outputId": "54ef826f-1428-4306-dfbc-959a999b3c0a"
      },
      "id": "IwxLmmo2w1bT",
      "execution_count": 92,
      "outputs": [
        {
          "output_type": "stream",
          "name": "stdout",
          "text": [
            "['Yes' 'No']\n"
          ]
        }
      ]
    },
    {
      "cell_type": "code",
      "source": [
        "Medicare_Survey_df[\"inpatient_stays\"].describe()"
      ],
      "metadata": {
        "colab": {
          "base_uri": "https://localhost:8080/",
          "height": 335
        },
        "id": "bIsi2L-Ut1ev",
        "outputId": "d99d3276-812d-454b-9796-80277c4eb896"
      },
      "id": "bIsi2L-Ut1ev",
      "execution_count": 93,
      "outputs": [
        {
          "output_type": "execute_result",
          "data": {
            "text/plain": [
              "count    12783.000000\n",
              "mean         0.086991\n",
              "std          0.390714\n",
              "min          0.000000\n",
              "25%          0.000000\n",
              "50%          0.000000\n",
              "75%          0.000000\n",
              "max          4.000000\n",
              "Name: inpatient_stays, dtype: float64"
            ],
            "text/html": [
              "<div>\n",
              "<style scoped>\n",
              "    .dataframe tbody tr th:only-of-type {\n",
              "        vertical-align: middle;\n",
              "    }\n",
              "\n",
              "    .dataframe tbody tr th {\n",
              "        vertical-align: top;\n",
              "    }\n",
              "\n",
              "    .dataframe thead th {\n",
              "        text-align: right;\n",
              "    }\n",
              "</style>\n",
              "<table border=\"1\" class=\"dataframe\">\n",
              "  <thead>\n",
              "    <tr style=\"text-align: right;\">\n",
              "      <th></th>\n",
              "      <th>inpatient_stays</th>\n",
              "    </tr>\n",
              "  </thead>\n",
              "  <tbody>\n",
              "    <tr>\n",
              "      <th>count</th>\n",
              "      <td>12783.000000</td>\n",
              "    </tr>\n",
              "    <tr>\n",
              "      <th>mean</th>\n",
              "      <td>0.086991</td>\n",
              "    </tr>\n",
              "    <tr>\n",
              "      <th>std</th>\n",
              "      <td>0.390714</td>\n",
              "    </tr>\n",
              "    <tr>\n",
              "      <th>min</th>\n",
              "      <td>0.000000</td>\n",
              "    </tr>\n",
              "    <tr>\n",
              "      <th>25%</th>\n",
              "      <td>0.000000</td>\n",
              "    </tr>\n",
              "    <tr>\n",
              "      <th>50%</th>\n",
              "      <td>0.000000</td>\n",
              "    </tr>\n",
              "    <tr>\n",
              "      <th>75%</th>\n",
              "      <td>0.000000</td>\n",
              "    </tr>\n",
              "    <tr>\n",
              "      <th>max</th>\n",
              "      <td>4.000000</td>\n",
              "    </tr>\n",
              "  </tbody>\n",
              "</table>\n",
              "</div><br><label><b>dtype:</b> float64</label>"
            ]
          },
          "metadata": {},
          "execution_count": 93
        }
      ]
    },
    {
      "cell_type": "code",
      "source": [
        "#I also think how race and sex impact weather or not people seak and receive care is interesting."
      ],
      "metadata": {
        "id": "B2KwH_HIvCMt"
      },
      "id": "B2KwH_HIvCMt",
      "execution_count": 94,
      "outputs": []
    },
    {
      "cell_type": "code",
      "source": [
        "print(Medicare_Survey_df.loc[0:30,('DEM_RACE','DEM_SEX','DEM_AGE')],'\\n') # Show rows 0:5 of Sex and Race"
      ],
      "metadata": {
        "colab": {
          "base_uri": "https://localhost:8080/"
        },
        "id": "aIsZdE-8vPSG",
        "outputId": "b72e08a0-64c1-46f9-a7be-f3751a982acb"
      },
      "id": "aIsZdE-8vPSG",
      "execution_count": 95,
      "outputs": [
        {
          "output_type": "stream",
          "name": "stdout",
          "text": [
            "    DEM_RACE  DEM_SEX  DEM_AGE\n",
            "0          1        2        3\n",
            "1          2        1        2\n",
            "2          1        2        3\n",
            "3          1        2        3\n",
            "4          3        2        2\n",
            "5          1        1        3\n",
            "6          1        2        1\n",
            "7          3        1        3\n",
            "8          1        2        3\n",
            "9          3        1        3\n",
            "10         2        2        2\n",
            "11         1        2        3\n",
            "12         3        1        1\n",
            "13         1        2        3\n",
            "14         1        2        2\n",
            "15         3        2        1\n",
            "16         1        1        3\n",
            "17         3        2        2\n",
            "18         1        1        2\n",
            "19         1        2        2\n",
            "20         2        1        1\n",
            "21         1        2        2\n",
            "22         1        2        3\n",
            "23         2        2        2\n",
            "24         1        1        3\n",
            "25         1        2        1\n",
            "26         1        2        2\n",
            "27         3        1        1\n",
            "28         1        1        1\n",
            "29         1        2        3\n",
            "30         3        1        1 \n",
            "\n"
          ]
        }
      ]
    },
    {
      "cell_type": "code",
      "source": [
        "print(Medicare_Survey_df[\"DEM_SEX\"].unique(),'\\n') # 'n' is not listed in the codebook\n",
        "print(Medicare_Survey_df[\"DEM_SEX\"].value_counts(), '\\n') #"
      ],
      "metadata": {
        "colab": {
          "base_uri": "https://localhost:8080/"
        },
        "id": "59bPG6PmxqO8",
        "outputId": "d219b880-ec6c-4caa-c808-e44e00ba8343"
      },
      "id": "59bPG6PmxqO8",
      "execution_count": 96,
      "outputs": [
        {
          "output_type": "stream",
          "name": "stdout",
          "text": [
            "[2 1] \n",
            "\n",
            "DEM_SEX\n",
            "2    6919\n",
            "1    5864\n",
            "Name: count, dtype: int64 \n",
            "\n"
          ]
        }
      ]
    },
    {
      "cell_type": "code",
      "source": [
        "# Create a mapping dictionary for dem_sex\n",
        "sex_mapping = {1: 'Male', 2: 'Female'}\n",
        "\n",
        "# Use the map function to replace the numeric values with 'Yes' and 'No'\n",
        "Medicare_Survey_df['DEM_SEX'] = Medicare_Survey_df['DEM_SEX'].map(sex_mapping)\n",
        "\n",
        "# Print the updated DataFrame to verify the changes\n",
        "print(Medicare_Survey_df['DEM_SEX'].unique())"
      ],
      "metadata": {
        "colab": {
          "base_uri": "https://localhost:8080/"
        },
        "id": "zP7hhGX7ym5Q",
        "outputId": "7dd1f71a-40a8-4122-eebb-63e9f6f90ade"
      },
      "id": "zP7hhGX7ym5Q",
      "execution_count": 97,
      "outputs": [
        {
          "output_type": "stream",
          "name": "stdout",
          "text": [
            "['Female' 'Male']\n"
          ]
        }
      ]
    },
    {
      "cell_type": "code",
      "source": [
        "print(Medicare_Survey_df['DEM_RACE'].unique(),'\\n') # 'n' is not listed in the codebook\n",
        "print(Medicare_Survey_df['DEM_RACE'].value_counts(), '\\n') #"
      ],
      "metadata": {
        "colab": {
          "base_uri": "https://localhost:8080/"
        },
        "id": "DGaE7xt4x9et",
        "outputId": "95c5842b-7cd1-4aeb-c868-77998157fda9"
      },
      "id": "DGaE7xt4x9et",
      "execution_count": 98,
      "outputs": [
        {
          "output_type": "stream",
          "name": "stdout",
          "text": [
            "[1 2 3 4] \n",
            "\n",
            "DEM_RACE\n",
            "1    9467\n",
            "3    1396\n",
            "2    1211\n",
            "4     709\n",
            "Name: count, dtype: int64 \n",
            "\n"
          ]
        }
      ]
    },
    {
      "cell_type": "code",
      "source": [
        "# Create a mapping dictionary for DEM_RACE\n",
        "race_mapping = {1: 'White', 2: 'Black', 3: 'Hispanic',4: 'Other'}\n",
        "\n",
        "# Use the map function to replace the numeric values with 'Yes' and 'No'\n",
        "Medicare_Survey_df['DEM_RACE'] = Medicare_Survey_df['DEM_RACE'].map(race_mapping)\n",
        "\n",
        "# Print the updated DataFrame to verify the changes\n",
        "print(Medicare_Survey_df['DEM_RACE'].unique())"
      ],
      "metadata": {
        "colab": {
          "base_uri": "https://localhost:8080/"
        },
        "id": "7dgbS_9dyQBc",
        "outputId": "5db04539-ec18-4b0f-9093-4482432a96d6"
      },
      "id": "7dgbS_9dyQBc",
      "execution_count": 99,
      "outputs": [
        {
          "output_type": "stream",
          "name": "stdout",
          "text": [
            "['White' 'Black' 'Hispanic' 'Other']\n"
          ]
        }
      ]
    },
    {
      "cell_type": "code",
      "source": [
        "print(Medicare_Survey_df['DEM_AGE'].unique(),'\\n') # 'n' is not listed in the codebook\n",
        "print(Medicare_Survey_df['DEM_AGE'].value_counts(), '\\n') #"
      ],
      "metadata": {
        "colab": {
          "base_uri": "https://localhost:8080/"
        },
        "id": "AZ5R_i8ZyIhf",
        "outputId": "d69b1296-c557-4132-84e7-b40343ac1340"
      },
      "id": "AZ5R_i8ZyIhf",
      "execution_count": 100,
      "outputs": [
        {
          "output_type": "stream",
          "name": "stdout",
          "text": [
            "[3 2 1] \n",
            "\n",
            "DEM_AGE\n",
            "3    6119\n",
            "2    4508\n",
            "1    2156\n",
            "Name: count, dtype: int64 \n",
            "\n"
          ]
        }
      ]
    },
    {
      "cell_type": "code",
      "source": [
        "# Create a mapping dictionary for dem_sex\n",
        "age_mapping = {1: '<65 years', 2: '65-74 years ', 3: '75+ years'}\n",
        "\n",
        "# Use the map function to replace the numeric values with 'Yes' and 'No'\n",
        "Medicare_Survey_df['DEM_AGE'] = Medicare_Survey_df['DEM_AGE'].map(age_mapping)\n",
        "\n",
        "# Print the updated DataFrame to verify the changes\n",
        "print(Medicare_Survey_df['DEM_AGE'].unique())"
      ],
      "metadata": {
        "colab": {
          "base_uri": "https://localhost:8080/"
        },
        "id": "m7PSPFOdyOQJ",
        "outputId": "578a2c1c-9981-4885-d6a0-59e665fd6288"
      },
      "id": "m7PSPFOdyOQJ",
      "execution_count": 101,
      "outputs": [
        {
          "output_type": "stream",
          "name": "stdout",
          "text": [
            "['75+ years' '65-74 years ' '<65 years']\n"
          ]
        }
      ]
    },
    {
      "cell_type": "markdown",
      "source": [
        "**Part 4: For the variables you select, make a boxplot for each numeric variable and a bar graph for each categorical variable. Do you see any outliers?**"
      ],
      "metadata": {
        "id": "KmwVLx5pzfYp"
      },
      "id": "KmwVLx5pzfYp"
    },
    {
      "cell_type": "code",
      "source": [
        "import matplotlib.pyplot as plt\n",
        "\n",
        "# Create a bar graph for 'outpatient_visit'\n",
        "Medicare_Survey_df['outpatient_visit'].value_counts().plot(kind='bar')\n",
        "plt.title('Outpatient Visit Distribution')\n",
        "plt.xlabel('Outpatient Visit')\n",
        "plt.ylabel('Count')\n",
        "plt.show()\n",
        "\n",
        "# Create a bar graph for 'inpatient_stays'\n",
        "Medicare_Survey_df['inpatient_stays'].value_counts().plot(kind='bar')\n",
        "plt.title('Inpatient Stays Distribution')\n",
        "plt.xlabel('Number of Inpatient Stays')\n",
        "plt.ylabel('Count')\n",
        "plt.show()\n",
        "\n",
        "\n",
        "# Create a bar graph for 'DEM_SEX'\n",
        "Medicare_Survey_df['DEM_SEX'].value_counts().plot(kind='bar')\n",
        "plt.title('Sex Distribution')\n",
        "plt.xlabel('Sex')\n",
        "plt.ylabel('Count')\n",
        "plt.show()\n",
        "\n",
        "# Create a bar graph for 'DEM_RACE'\n",
        "Medicare_Survey_df['DEM_RACE'].value_counts().plot(kind='bar')\n",
        "plt.title('Race Distribution')\n",
        "plt.xlabel('Race')\n",
        "plt.ylabel('Count')\n",
        "plt.show()\n",
        "\n",
        "# Create a bar graph for 'DEM_AGE'\n",
        "Medicare_Survey_df['DEM_AGE'].value_counts().plot(kind='bar')\n",
        "plt.title('Age Distribution')\n",
        "plt.xlabel('Age')\n",
        "plt.ylabel('Count')\n",
        "plt.show()\n"
      ],
      "metadata": {
        "colab": {
          "base_uri": "https://localhost:8080/",
          "height": 1000
        },
        "id": "mIPSlmrQzpGw",
        "outputId": "22b85457-2f5b-4db9-d42e-05bf00f3026e"
      },
      "id": "mIPSlmrQzpGw",
      "execution_count": 102,
      "outputs": [
        {
          "output_type": "display_data",
          "data": {
            "text/plain": [
              "<Figure size 640x480 with 1 Axes>"
            ],
            "image/png": "[encoded data removed]"
          },
          "metadata": {}
        },
        {
          "output_type": "display_data",
          "data": {
            "text/plain": [
              "<Figure size 640x480 with 1 Axes>"
            ],
            "image/png": "[encoded data removed]"
          },
          "metadata": {}
        },
        {
          "output_type": "display_data",
          "data": {
            "text/plain": [
              "<Figure size 640x480 with 1 Axes>"
            ],
            "image/png": "[encoded data removed]"
          },
          "metadata": {}
        },
        {
          "output_type": "display_data",
          "data": {
            "text/plain": [
              "<Figure size 640x480 with 1 Axes>"
            ],
            "image/png": "[encoded data removed]"
          },
          "metadata": {}
        },
        {
          "output_type": "display_data",
          "data": {
            "text/plain": [
              "<Figure size 640x480 with 1 Axes>"
            ],
            "image/png": "[encoded data removed]"
          },
          "metadata": {}
        }
      ]
    },
    {
      "cell_type": "markdown",
      "source": [
        "The only graph that possibly has outliers is inpaitent stays, which makes sense because a vast majority of people have none and very few have four. However, the more extreme values in this distribution are still important to include and consider in my analysis."
      ],
      "metadata": {
        "id": "aC_0F-xa0kyk"
      },
      "id": "aC_0F-xa0kyk"
    },
    {
      "cell_type": "markdown",
      "source": [
        "**Part 5: Create a histogram or kernel density plot, and explain what you see. Do the results require any transformations to rescale them?**"
      ],
      "metadata": {
        "id": "REKTxB3H07d3"
      },
      "id": "REKTxB3H07d3"
    },
    {
      "cell_type": "code",
      "source": [
        "import matplotlib.pyplot as plt\n",
        "sns.countplot(x='outpatient_visit', hue='inpatient_stays', data=Medicare_Survey_df)\n",
        "plt.xlabel('Outpatient Visit')\n",
        "plt.ylabel('Number of Respondents')\n",
        "plt.title('Relationship Between Outpatient Visits and Inpatient Stays')\n",
        "plt.show()\n",
        "plt.show()"
      ],
      "metadata": {
        "colab": {
          "base_uri": "https://localhost:8080/",
          "height": 472
        },
        "id": "2DBvWmCczfKU",
        "outputId": "6b337201-0a9a-4e95-b4cd-99fd9b06e929"
      },
      "id": "2DBvWmCczfKU",
      "execution_count": 103,
      "outputs": [
        {
          "output_type": "display_data",
          "data": {
            "text/plain": [
              "<Figure size 640x480 with 1 Axes>"
            ],
            "image/png": "[encoded data removed]"
          },
          "metadata": {}
        }
      ]
    },
    {
      "cell_type": "code",
      "source": [
        "# AI prompt: make a histogram comparing race and weather or not someone had an outpaitent visit\n",
        "\n",
        "# Create a histogram comparing race and outpatient visits\n",
        "plt.figure(figsize=(10, 6))\n",
        "sns.histplot(x='DEM_RACE', hue='outpatient_visit', data=Medicare_Survey_df, multiple='dodge')\n",
        "plt.title('Outpatient Visit Distribution by Race')\n",
        "plt.xlabel('Race')\n",
        "plt.ylabel('Count')\n",
        "plt.show()\n"
      ],
      "metadata": {
        "colab": {
          "base_uri": "https://localhost:8080/",
          "height": 564
        },
        "id": "C0uakLPM1Znl",
        "outputId": "ff8300d3-461e-4f8e-dee1-cddddb4789b0"
      },
      "id": "C0uakLPM1Znl",
      "execution_count": 104,
      "outputs": [
        {
          "output_type": "display_data",
          "data": {
            "text/plain": [
              "<Figure size 1000x600 with 1 Axes>"
            ],
            "image/png": "[encoded data removed]"
          },
          "metadata": {}
        }
      ]
    },
    {
      "cell_type": "code",
      "source": [
        "# AI prompt: compare gender and inpaitent stays with a histogram\n",
        "\n",
        "# Create a histogram comparing gender and inpatient stays\n",
        "plt.figure(figsize=(10, 6))\n",
        "sns.histplot(x='DEM_SEX', hue='inpatient_stays', data=Medicare_Survey_df, multiple='dodge')\n",
        "plt.title('Inpatient Stays Distribution by Gender')\n",
        "plt.xlabel('Gender')\n",
        "plt.ylabel('Count')\n",
        "plt.show()\n"
      ],
      "metadata": {
        "colab": {
          "base_uri": "https://localhost:8080/",
          "height": 564
        },
        "id": "h6Syk7zM11Wk",
        "outputId": "37c2f337-1a17-4ff3-bcb7-eb4358026e6f"
      },
      "id": "h6Syk7zM11Wk",
      "execution_count": 105,
      "outputs": [
        {
          "output_type": "display_data",
          "data": {
            "text/plain": [
              "<Figure size 1000x600 with 1 Axes>"
            ],
            "image/png": "[encoded data removed]"
          },
          "metadata": {}
        }
      ]
    },
    {
      "cell_type": "markdown",
      "source": [
        "**Part 6: Create a scatter plot, and describe the relationship you see.**"
      ],
      "metadata": {
        "id": "pIsJTukP2Cec"
      },
      "id": "pIsJTukP2Cec"
    },
    {
      "cell_type": "code",
      "source": [
        "# AI prompt:  Create a scatter plot and jitter the points\n",
        "\n",
        "import matplotlib.pyplot as plt\n",
        "plt.figure(figsize=(10, 6))\n",
        "sns.stripplot(x='DEM_RACE', y='inpatient_stays', data=Medicare_Survey_df, jitter=True)\n",
        "plt.title('Relationship Between Race and Inpatient Stays')\n",
        "plt.xlabel('Race')\n",
        "plt.ylabel('Number of Inpatient Stays')\n",
        "plt.show()\n"
      ],
      "metadata": {
        "colab": {
          "base_uri": "https://localhost:8080/",
          "height": 564
        },
        "id": "_pk7BG1x2JZp",
        "outputId": "dfaf4252-f384-47bd-dca7-c9286cb41bfa"
      },
      "id": "_pk7BG1x2JZp",
      "execution_count": 106,
      "outputs": [
        {
          "output_type": "display_data",
          "data": {
            "text/plain": [
              "<Figure size 1000x600 with 1 Axes>"
            ],
            "image/png": "[encoded data removed]"
          },
          "metadata": {}
        }
      ]
    },
    {
      "cell_type": "markdown",
      "source": [
        "Because my variables are catagorical, a scatter plot is not that helpful in seeing a relationship between variables. To help fix this sligtly I jitttered the points to be able to see how many are in each catagory, however, in my opinion using side by side histograms of different variables is more heplful. With that said, an interesting relation that I see from this scatter plot is how few people whose race is catagorized as Black of other have extensive in-paitent stays (3+ days). This relationship seems important as it raises questions of weather these groups are receiveing the in-paitent care they need when they need it."
      ],
      "metadata": {
        "id": "EYC4VH832avT"
      },
      "id": "EYC4VH832avT"
    },
    {
      "cell_type": "markdown",
      "source": [
        "**Part 7: Create a table (cross tabulation, variance-covariance, or a .describe() five-number summary), and explain what you see.**"
      ],
      "metadata": {
        "id": "Q6vbPLCk3IuT"
      },
      "id": "Q6vbPLCk3IuT"
    },
    {
      "cell_type": "code",
      "source": [
        "#I used the colab ai for this with the prompt: make a five number summary for inpatient_stays and crosstabs for the other variables\n",
        "\n",
        "# Five-number summary for inpatient_stays\n",
        "print(\"\\nFive-Number Summary for Inpatient Stays:\\n\", Medicare_Survey_df['inpatient_stays'].describe())\n",
        "\n",
        "# Cross tabulation of outpatient_visit and inpatient_stays\n",
        "cross_tab = pd.crosstab(Medicare_Survey_df['outpatient_visit'], Medicare_Survey_df['inpatient_stays'])\n",
        "print(\"Cross Tabulation of Outpatient Visit and Inpatient Stays:\\n\", cross_tab)\n",
        "\n",
        "# Cross tabulation of DEM_RACE and outpatient_visit\n",
        "race_outpatient_cross_tab = pd.crosstab(Medicare_Survey_df['DEM_RACE'], Medicare_Survey_df['outpatient_visit'])\n",
        "print(\"\\nCross Tabulation of Race and Outpatient Visit:\\n\", race_outpatient_cross_tab)\n",
        "\n",
        "# Cross tabulation of DEM_SEX and inpatient_stays\n",
        "sex_inpatient_cross_tab = pd.crosstab(Medicare_Survey_df['DEM_SEX'], Medicare_Survey_df['inpatient_stays'])\n",
        "print(\"\\nCross Tabulation of Sex and Inpatient Stays:\\n\", sex_inpatient_cross_tab)\n"
      ],
      "metadata": {
        "colab": {
          "base_uri": "https://localhost:8080/"
        },
        "id": "BCfNZBcB3IcU",
        "outputId": "eb78a29f-9244-4426-b757-d1f7cf3548c6"
      },
      "id": "BCfNZBcB3IcU",
      "execution_count": 107,
      "outputs": [
        {
          "output_type": "stream",
          "name": "stdout",
          "text": [
            "\n",
            "Five-Number Summary for Inpatient Stays:\n",
            " count    12783.000000\n",
            "mean         0.086991\n",
            "std          0.390714\n",
            "min          0.000000\n",
            "25%          0.000000\n",
            "50%          0.000000\n",
            "75%          0.000000\n",
            "max          4.000000\n",
            "Name: inpatient_stays, dtype: float64\n",
            "Cross Tabulation of Outpatient Visit and Inpatient Stays:\n",
            " inpatient_stays      0    1    2   3   4\n",
            "outpatient_visit                        \n",
            "No                7703   58    7   2   0\n",
            "Yes               4288  526  125  38  36\n",
            "\n",
            "Cross Tabulation of Race and Outpatient Visit:\n",
            " outpatient_visit    No   Yes\n",
            "DEM_RACE                    \n",
            "Black              889   322\n",
            "Hispanic          1024   372\n",
            "Other              454   255\n",
            "White             5403  4064\n",
            "\n",
            "Cross Tabulation of Sex and Inpatient Stays:\n",
            " inpatient_stays     0    1   2   3   4\n",
            "DEM_SEX                               \n",
            "Female           6525  310  55  13  16\n",
            "Male             5466  274  77  27  20\n"
          ]
        }
      ]
    },
    {
      "cell_type": "markdown",
      "source": [
        "The Five-Number Summary for Inpatient Stays shows that the first three quantiiles of data (75%) have had 0 in-paitent stays. The max is coded as 4 which the data dicitonary explains is 4+ stays."
      ],
      "metadata": {
        "id": "FAz8h10t3r-Y"
      },
      "id": "FAz8h10t3r-Y"
    },
    {
      "cell_type": "markdown",
      "source": [
        "I also found the Cross Tabulation of Race and Outpatient Visit to be interesting. Particularly, ~0.43% of white people had an outpaitent visit in the year and only ~0.27% of Hispanic people had an outpaitent visit which indicates a disparity"
      ],
      "metadata": {
        "id": "BZyx89Qe4RIy"
      },
      "id": "BZyx89Qe4RIy"
    }
  ],
  "metadata": {
    "colab": {
      "provenance": [],
      "collapsed_sections": [
        "9fiJphvf57Mg",
        "do0hSY0Om7Ed"
      ],
      "include_colab_link": true
    },
    "kernelspec": {
      "display_name": "Python 3 (ipykernel)",
      "language": "python",
      "name": "python3"
    },
    "language_info": {
      "codemirror_mode": {
        "name": "ipython",
        "version": 3
      },
      "file_extension": ".py",
      "mimetype": "text/x-python",
      "name": "python",
      "nbconvert_exporter": "python",
      "pygments_lexer": "ipython3",
      "version": "3.10.4"
    }
  },
  "nbformat": 4,
  "nbformat_minor": 5
}